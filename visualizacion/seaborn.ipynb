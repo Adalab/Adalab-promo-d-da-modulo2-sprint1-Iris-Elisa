{
 "cells": [
  {
   "cell_type": "code",
   "execution_count": 1,
   "metadata": {},
   "outputs": [],
   "source": [
    "import seaborn as sns\n",
    "import pandas as pd\n",
    "import matplotlib.pyplot as plt"
   ]
  },
  {
   "attachments": {},
   "cell_type": "markdown",
   "metadata": {},
   "source": [
    " Trabajaremos con el csv que generamos en el ejercicio de pair programming de Pandas V"
   ]
  },
  {
   "attachments": {},
   "cell_type": "markdown",
   "metadata": {},
   "source": [
    "1. Usando la librería seaborn, cread una gráfica que nos muestre el número de personas que han hecho una solicitud de ticket en cada año. Hacedlo solo para los del tipo \"Problema\"."
   ]
  },
  {
   "cell_type": "code",
   "execution_count": 2,
   "metadata": {},
   "outputs": [
    {
     "data": {
      "text/html": [
       "<div>\n",
       "<style scoped>\n",
       "    .dataframe tbody tr th:only-of-type {\n",
       "        vertical-align: middle;\n",
       "    }\n",
       "\n",
       "    .dataframe tbody tr th {\n",
       "        vertical-align: top;\n",
       "    }\n",
       "\n",
       "    .dataframe thead th {\n",
       "        text-align: right;\n",
       "    }\n",
       "</style>\n",
       "<table border=\"1\" class=\"dataframe\">\n",
       "  <thead>\n",
       "    <tr style=\"text-align: right;\">\n",
       "      <th></th>\n",
       "      <th>Unnamed: 0</th>\n",
       "      <th>ID Ticket</th>\n",
       "      <th>Fecha</th>\n",
       "      <th>ID Empleado</th>\n",
       "      <th>ID Agente</th>\n",
       "      <th>Categoría</th>\n",
       "      <th>Tipo</th>\n",
       "      <th>Severidad</th>\n",
       "      <th>Prioridad</th>\n",
       "      <th>Días Resolución</th>\n",
       "      <th>Satisfacción</th>\n",
       "      <th>año</th>\n",
       "    </tr>\n",
       "  </thead>\n",
       "  <tbody>\n",
       "    <tr>\n",
       "      <th>0</th>\n",
       "      <td>0</td>\n",
       "      <td>GDDENR-5042564453</td>\n",
       "      <td>2016-07-13</td>\n",
       "      <td>1735.0</td>\n",
       "      <td>4.0</td>\n",
       "      <td>Acceso&amp;%Login</td>\n",
       "      <td>Problema</td>\n",
       "      <td>0 - Sin Clasificar</td>\n",
       "      <td>0 - Sin Asignar</td>\n",
       "      <td>0.0</td>\n",
       "      <td>5.0</td>\n",
       "      <td>2016</td>\n",
       "    </tr>\n",
       "  </tbody>\n",
       "</table>\n",
       "</div>"
      ],
      "text/plain": [
       "   Unnamed: 0          ID Ticket       Fecha  ID Empleado  ID Agente  \\\n",
       "0           0  GDDENR-5042564453  2016-07-13       1735.0        4.0   \n",
       "\n",
       "       Categoría      Tipo           Severidad        Prioridad  \\\n",
       "0  Acceso&%Login  Problema  0 - Sin Clasificar  0 - Sin Asignar   \n",
       "\n",
       "   Días Resolución  Satisfacción   año  \n",
       "0              0.0           5.0  2016  "
      ]
     },
     "execution_count": 2,
     "metadata": {},
     "output_type": "execute_result"
    }
   ],
   "source": [
    "df = pd.read_csv(\"datos/concatenado.csv\")\n",
    "df.head(1)"
   ]
  },
  {
   "cell_type": "code",
   "execution_count": null,
   "metadata": {},
   "outputs": [],
   "source": [
    "df = pd.read_csv(\"datos/concatenado.csv\")\n",
    "df.head(1)"
   ]
  },
  {
   "cell_type": "code",
   "execution_count": 7,
   "metadata": {},
   "outputs": [
    {
     "data": {
      "text/html": [
       "<div>\n",
       "<style scoped>\n",
       "    .dataframe tbody tr th:only-of-type {\n",
       "        vertical-align: middle;\n",
       "    }\n",
       "\n",
       "    .dataframe tbody tr th {\n",
       "        vertical-align: top;\n",
       "    }\n",
       "\n",
       "    .dataframe thead th {\n",
       "        text-align: right;\n",
       "    }\n",
       "</style>\n",
       "<table border=\"1\" class=\"dataframe\">\n",
       "  <thead>\n",
       "    <tr style=\"text-align: right;\">\n",
       "      <th></th>\n",
       "      <th>Unnamed: 0</th>\n",
       "      <th>ID Ticket</th>\n",
       "      <th>Fecha</th>\n",
       "      <th>ID Empleado</th>\n",
       "      <th>ID Agente</th>\n",
       "      <th>Categoría</th>\n",
       "      <th>Tipo</th>\n",
       "      <th>Severidad</th>\n",
       "      <th>Prioridad</th>\n",
       "      <th>Días Resolución</th>\n",
       "      <th>Satisfacción</th>\n",
       "      <th>año</th>\n",
       "    </tr>\n",
       "  </thead>\n",
       "  <tbody>\n",
       "    <tr>\n",
       "      <th>0</th>\n",
       "      <td>0</td>\n",
       "      <td>GDDENR-5042564453</td>\n",
       "      <td>2016-07-13</td>\n",
       "      <td>1735.0</td>\n",
       "      <td>4.0</td>\n",
       "      <td>Acceso&amp;%Login</td>\n",
       "      <td>Problema</td>\n",
       "      <td>0 - Sin Clasificar</td>\n",
       "      <td>0 - Sin Asignar</td>\n",
       "      <td>0.0</td>\n",
       "      <td>5.0</td>\n",
       "      <td>2016</td>\n",
       "    </tr>\n",
       "  </tbody>\n",
       "</table>\n",
       "</div>"
      ],
      "text/plain": [
       "   Unnamed: 0          ID Ticket       Fecha  ID Empleado  ID Agente  \\\n",
       "0           0  GDDENR-5042564453  2016-07-13       1735.0        4.0   \n",
       "\n",
       "       Categoría      Tipo           Severidad        Prioridad  \\\n",
       "0  Acceso&%Login  Problema  0 - Sin Clasificar  0 - Sin Asignar   \n",
       "\n",
       "   Días Resolución  Satisfacción   año  \n",
       "0              0.0           5.0  2016  "
      ]
     },
     "execution_count": 7,
     "metadata": {},
     "output_type": "execute_result"
    }
   ],
   "source": [
    "prob = df[df['Tipo'] == 'Problema']\n",
    "prob.head(1)"
   ]
  },
  {
   "cell_type": "code",
   "execution_count": 29,
   "metadata": {},
   "outputs": [
    {
     "data": {
      "image/png": "[encoded data removed]",
      "text/plain": [
       "<Figure size 576x288 with 1 Axes>"
      ]
     },
     "metadata": {
      "needs_background": "light"
     },
     "output_type": "display_data"
    }
   ],
   "source": [
    "plt.figure(figsize =(8,4)) \n",
    "\n",
    "# establecemos la gráfica\n",
    "fig = sns.histplot(x = 'año' ,data=prob, hue='Tipo')\n",
    "\n",
    "fig.set(xlabel='Años', ylabel = 'Nº tickets')\n",
    "\n",
    "fig.set_title('Solicitudes de tipo problema por año')\n",
    "plt.show()"
   ]
  },
  {
   "attachments": {},
   "cell_type": "markdown",
   "metadata": {},
   "source": [
    "2. La gráfica anterior nos ha mostrado una tendencia ascendente en el número de solicitudes a lo largo de los años, lo que preocupa a la empresa, por lo que quieres seguir analizando los datos para ver si son capaces de identificar los problemas subyacentes a estas solicitudes. Para esto, quieren saber si hay diferencias a lo largo del año. En concreto nos piden que hagamos un subplot con seaborn donde:\n",
    "\n",
    "- En la primera gráfica tengamos la gráfica que creamos en el ejercicio anterior\n",
    "\n",
    "- En la segunda gráfica tengamos la comparación por años y sementres para el número de tikects de tipo \"Problema\"."
   ]
  },
  {
   "cell_type": "code",
   "execution_count": 30,
   "metadata": {},
   "outputs": [
    {
     "data": {
      "text/html": [
       "<div>\n",
       "<style scoped>\n",
       "    .dataframe tbody tr th:only-of-type {\n",
       "        vertical-align: middle;\n",
       "    }\n",
       "\n",
       "    .dataframe tbody tr th {\n",
       "        vertical-align: top;\n",
       "    }\n",
       "\n",
       "    .dataframe thead th {\n",
       "        text-align: right;\n",
       "    }\n",
       "</style>\n",
       "<table border=\"1\" class=\"dataframe\">\n",
       "  <thead>\n",
       "    <tr style=\"text-align: right;\">\n",
       "      <th></th>\n",
       "      <th>Unnamed: 0</th>\n",
       "      <th>ID Ticket</th>\n",
       "      <th>Fecha</th>\n",
       "      <th>ID Empleado</th>\n",
       "      <th>ID Agente</th>\n",
       "      <th>Categoría</th>\n",
       "      <th>Tipo</th>\n",
       "      <th>Severidad</th>\n",
       "      <th>Prioridad</th>\n",
       "      <th>Días Resolución</th>\n",
       "      <th>Satisfacción</th>\n",
       "      <th>año</th>\n",
       "    </tr>\n",
       "  </thead>\n",
       "  <tbody>\n",
       "    <tr>\n",
       "      <th>0</th>\n",
       "      <td>0</td>\n",
       "      <td>GDDENR-5042564453</td>\n",
       "      <td>2016-07-13</td>\n",
       "      <td>1735.0</td>\n",
       "      <td>4.0</td>\n",
       "      <td>Acceso&amp;%Login</td>\n",
       "      <td>Problema</td>\n",
       "      <td>0 - Sin Clasificar</td>\n",
       "      <td>0 - Sin Asignar</td>\n",
       "      <td>0.0</td>\n",
       "      <td>5.0</td>\n",
       "      <td>2016</td>\n",
       "    </tr>\n",
       "  </tbody>\n",
       "</table>\n",
       "</div>"
      ],
      "text/plain": [
       "   Unnamed: 0          ID Ticket       Fecha  ID Empleado  ID Agente  \\\n",
       "0           0  GDDENR-5042564453  2016-07-13       1735.0        4.0   \n",
       "\n",
       "       Categoría      Tipo           Severidad        Prioridad  \\\n",
       "0  Acceso&%Login  Problema  0 - Sin Clasificar  0 - Sin Asignar   \n",
       "\n",
       "   Días Resolución  Satisfacción   año  \n",
       "0              0.0           5.0  2016  "
      ]
     },
     "execution_count": 30,
     "metadata": {},
     "output_type": "execute_result"
    }
   ],
   "source": [
    "prob.head(1)"
   ]
  },
  {
   "cell_type": "code",
   "execution_count": 28,
   "metadata": {},
   "outputs": [
    {
     "ename": "AttributeError",
     "evalue": "'AxesSubplot' object has no attribute 'sns'",
     "output_type": "error",
     "traceback": [
      "\u001b[0;31m---------------------------------------------------------------------------\u001b[0m",
      "\u001b[0;31mAttributeError\u001b[0m                            Traceback (most recent call last)",
      "\u001b[0;32m/tmp/ipykernel_8656/2541535891.py\u001b[0m in \u001b[0;36m<module>\u001b[0;34m\u001b[0m\n\u001b[1;32m      1\u001b[0m \u001b[0mfig\u001b[0m\u001b[0;34m,\u001b[0m\u001b[0max\u001b[0m \u001b[0;34m=\u001b[0m \u001b[0mplt\u001b[0m\u001b[0;34m.\u001b[0m\u001b[0msubplots\u001b[0m\u001b[0;34m(\u001b[0m\u001b[0;36m2\u001b[0m\u001b[0;34m,\u001b[0m\u001b[0;36m1\u001b[0m\u001b[0;34m,\u001b[0m \u001b[0mfigsize\u001b[0m\u001b[0;34m=\u001b[0m\u001b[0;34m(\u001b[0m\u001b[0;36m30\u001b[0m\u001b[0;34m,\u001b[0m\u001b[0;36m20\u001b[0m\u001b[0;34m)\u001b[0m\u001b[0;34m)\u001b[0m\u001b[0;34m\u001b[0m\u001b[0;34m\u001b[0m\u001b[0m\n\u001b[1;32m      2\u001b[0m \u001b[0;34m\u001b[0m\u001b[0m\n\u001b[0;32m----> 3\u001b[0;31m \u001b[0max\u001b[0m\u001b[0;34m[\u001b[0m\u001b[0;36m0\u001b[0m\u001b[0;34m]\u001b[0m\u001b[0;34m.\u001b[0m\u001b[0msns\u001b[0m\u001b[0;34m.\u001b[0m\u001b[0mhistplot\u001b[0m\u001b[0;34m(\u001b[0m\u001b[0mx\u001b[0m \u001b[0;34m=\u001b[0m \u001b[0;34m'año'\u001b[0m \u001b[0;34m,\u001b[0m\u001b[0mdata\u001b[0m\u001b[0;34m=\u001b[0m\u001b[0mprob\u001b[0m\u001b[0;34m,\u001b[0m \u001b[0mhue\u001b[0m\u001b[0;34m=\u001b[0m\u001b[0;34m'Tipo'\u001b[0m\u001b[0;34m,\u001b[0m \u001b[0mkde\u001b[0m\u001b[0;34m=\u001b[0m\u001b[0;32mTrue\u001b[0m\u001b[0;34m)\u001b[0m\u001b[0;34m\u001b[0m\u001b[0;34m\u001b[0m\u001b[0m\n\u001b[0m\u001b[1;32m      4\u001b[0m \u001b[0;34m\u001b[0m\u001b[0m\n\u001b[1;32m      5\u001b[0m \u001b[0;34m\u001b[0m\u001b[0m\n",
      "\u001b[0;31mAttributeError\u001b[0m: 'AxesSubplot' object has no attribute 'sns'"
     ]
    },
    {
     "data": {
      "image/png": "[encoded data removed]",
      "text/plain": [
       "<Figure size 2160x1440 with 2 Axes>"
      ]
     },
     "metadata": {
      "needs_background": "light"
     },
     "output_type": "display_data"
    }
   ],
   "source": [
    "fig, axes = plt.subplots(1, 3, figsize=(15, 5), sharey=True)\n",
    "fig.suptitle('Initial Pokemon - 1st Generation')\n",
    "\n",
    "# Bulbasaur\n",
    "sns.barplot(ax=axes[0], x='año', hue= 'Tipo')\n",
    "axes[0].set_title('primera gráfica')\n",
    "\n",
    "# Charmander\n",
    "sns.barplot(ax=axes[1], x=charmander.index, y=charmander.values)\n",
    "axes[1].set_title(charmander.name)\n"
   ]
  },
  {
   "attachments": {},
   "cell_type": "markdown",
   "metadata": {},
   "source": [
    "3. La empresa se siente algo aliviada al ver que no hay diferencias entre semestres, pero seguimos sin identificar porque cada año tenemos más solicitudes. Nuestras jefas quieren saber ahora, que prioridad tienen los tickets que tenemos en el conjunto de datos. Por eso nos piden que volvamos a hacer un subplot:\n",
    "\n",
    "- En la primera gráfica deberíamos tener la gráfica creada en el ejercicio 1\n",
    "\n",
    "- En la segunda gráfica deberíamos incluir el número de tickets por año en función de la prioridad que tienen."
   ]
  },
  {
   "cell_type": "code",
   "execution_count": null,
   "metadata": {},
   "outputs": [],
   "source": []
  },
  {
   "cell_type": "code",
   "execution_count": null,
   "metadata": {},
   "outputs": [],
   "source": []
  },
  {
   "attachments": {},
   "cell_type": "markdown",
   "metadata": {},
   "source": [
    "4. Hasta ahora hemos estado viendo que no parece que haya nada alarmante. Por lo que ahora quieren que evaluemos la cantidad de trabajo que cada empleado esta haciendo, para poder identificar rápidamente un problema en la distribución de tareas y tomar medidas para solucionarlo. Para ello nos piden que hagamos dos gráficas en un subplot:\n",
    "\n",
    "- La primera gráfica tiene que tener los 5 empleados con mayor número de tickets, deberemos mostrar quienes son y cuál es total de tickets que atienden cada uno.\n",
    "\n",
    "- La primera gráfica tiene que tener los 5 empleados con menor número de tickets, deberemos mostrar quienes son y cuál es total de tickets que atienden cada uno."
   ]
  },
  {
   "cell_type": "code",
   "execution_count": null,
   "metadata": {},
   "outputs": [],
   "source": []
  },
  {
   "attachments": {},
   "cell_type": "markdown",
   "metadata": {},
   "source": [
    "📌 NOTA Somos analistas y no nos vale con sacar las gráficas. Incluid una celda de markdown donde expliqueis que es lo que estamos viendo en las gráficas, es decir, haced una interpretación de los resultados."
   ]
  }
 ],
 "metadata": {
  "kernelspec": {
   "display_name": "base",
   "language": "python",
   "name": "python3"
  },
  "language_info": {
   "codemirror_mode": {
    "name": "ipython",
    "version": 3
   },
   "file_extension": ".py",
   "mimetype": "text/x-python",
   "name": "python",
   "nbconvert_exporter": "python",
   "pygments_lexer": "ipython3",
   "version": "3.9.7"
  },
  "orig_nbformat": 4
 },
 "nbformat": 4,
 "nbformat_minor": 2
}
