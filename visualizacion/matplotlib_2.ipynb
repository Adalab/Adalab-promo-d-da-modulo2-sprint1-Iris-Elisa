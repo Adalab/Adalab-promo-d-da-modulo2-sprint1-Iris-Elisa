{
 "cells": [
  {
   "cell_type": "code",
   "execution_count": 1,
   "metadata": {},
   "outputs": [],
   "source": [
    "import matplotlib.pyplot as plt\n",
    "import pandas as pd"
   ]
  },
  {
   "cell_type": "code",
   "execution_count": 4,
   "metadata": {},
   "outputs": [
    {
     "data": {
      "text/html": [
       "<div>\n",
       "<style scoped>\n",
       "    .dataframe tbody tr th:only-of-type {\n",
       "        vertical-align: middle;\n",
       "    }\n",
       "\n",
       "    .dataframe tbody tr th {\n",
       "        vertical-align: top;\n",
       "    }\n",
       "\n",
       "    .dataframe thead th {\n",
       "        text-align: right;\n",
       "    }\n",
       "</style>\n",
       "<table border=\"1\" class=\"dataframe\">\n",
       "  <thead>\n",
       "    <tr style=\"text-align: right;\">\n",
       "      <th></th>\n",
       "      <th>Unnamed: 0</th>\n",
       "      <th>ID Ticket</th>\n",
       "      <th>Fecha</th>\n",
       "      <th>ID Empleado</th>\n",
       "      <th>ID Agente</th>\n",
       "      <th>Categoría</th>\n",
       "      <th>Tipo</th>\n",
       "      <th>Severidad</th>\n",
       "      <th>Prioridad</th>\n",
       "      <th>Días Resolución</th>\n",
       "      <th>Satisfacción</th>\n",
       "      <th>año</th>\n",
       "    </tr>\n",
       "  </thead>\n",
       "  <tbody>\n",
       "    <tr>\n",
       "      <th>0</th>\n",
       "      <td>0</td>\n",
       "      <td>GDDENR-5042564453</td>\n",
       "      <td>2016-07-13</td>\n",
       "      <td>1735.0</td>\n",
       "      <td>4.0</td>\n",
       "      <td>Acceso&amp;%Login</td>\n",
       "      <td>Problema</td>\n",
       "      <td>0 - Sin Clasificar</td>\n",
       "      <td>0 - Sin Asignar</td>\n",
       "      <td>0.0</td>\n",
       "      <td>5.0</td>\n",
       "      <td>2016</td>\n",
       "    </tr>\n",
       "    <tr>\n",
       "      <th>1</th>\n",
       "      <td>1</td>\n",
       "      <td>GDDENR-8042508060</td>\n",
       "      <td>2016-05-18</td>\n",
       "      <td>1566.0</td>\n",
       "      <td>10.0</td>\n",
       "      <td>Acceso&amp;%Login</td>\n",
       "      <td>Problema</td>\n",
       "      <td>0 - Sin Clasificar</td>\n",
       "      <td>0 - Sin Asignar</td>\n",
       "      <td>0.0</td>\n",
       "      <td>5.0</td>\n",
       "      <td>2016</td>\n",
       "    </tr>\n",
       "    <tr>\n",
       "      <th>2</th>\n",
       "      <td>2</td>\n",
       "      <td>GDDESR-1342539995</td>\n",
       "      <td>2016-06-18</td>\n",
       "      <td>569.0</td>\n",
       "      <td>29.0</td>\n",
       "      <td>Sistema</td>\n",
       "      <td>Problema</td>\n",
       "      <td>0 - Sin Clasificar</td>\n",
       "      <td>0 - Sin Asignar</td>\n",
       "      <td>3.0</td>\n",
       "      <td>5.0</td>\n",
       "      <td>2016</td>\n",
       "    </tr>\n",
       "    <tr>\n",
       "      <th>3</th>\n",
       "      <td>3</td>\n",
       "      <td>GDDTSR-5942488006</td>\n",
       "      <td>2016-04-28</td>\n",
       "      <td>320.0</td>\n",
       "      <td>40.0</td>\n",
       "      <td>Sistema</td>\n",
       "      <td>Solicitud</td>\n",
       "      <td>0 - Sin Clasificar</td>\n",
       "      <td>0 - Sin Asignar</td>\n",
       "      <td>9.0</td>\n",
       "      <td>5.0</td>\n",
       "      <td>2016</td>\n",
       "    </tr>\n",
       "    <tr>\n",
       "      <th>4</th>\n",
       "      <td>4</td>\n",
       "      <td>GDLEER-0042524120</td>\n",
       "      <td>2016-06-03</td>\n",
       "      <td>1842.0</td>\n",
       "      <td>31.0</td>\n",
       "      <td>Software</td>\n",
       "      <td>Problema</td>\n",
       "      <td>2 - Normal</td>\n",
       "      <td>0 - Sin Asignar</td>\n",
       "      <td>0.0</td>\n",
       "      <td>5.0</td>\n",
       "      <td>2016</td>\n",
       "    </tr>\n",
       "  </tbody>\n",
       "</table>\n",
       "</div>"
      ],
      "text/plain": [
       "   Unnamed: 0          ID Ticket       Fecha  ID Empleado  ID Agente  \\\n",
       "0           0  GDDENR-5042564453  2016-07-13       1735.0        4.0   \n",
       "1           1  GDDENR-8042508060  2016-05-18       1566.0       10.0   \n",
       "2           2  GDDESR-1342539995  2016-06-18        569.0       29.0   \n",
       "3           3  GDDTSR-5942488006  2016-04-28        320.0       40.0   \n",
       "4           4  GDLEER-0042524120  2016-06-03       1842.0       31.0   \n",
       "\n",
       "       Categoría       Tipo           Severidad        Prioridad  \\\n",
       "0  Acceso&%Login   Problema  0 - Sin Clasificar  0 - Sin Asignar   \n",
       "1  Acceso&%Login   Problema  0 - Sin Clasificar  0 - Sin Asignar   \n",
       "2        Sistema   Problema  0 - Sin Clasificar  0 - Sin Asignar   \n",
       "3        Sistema  Solicitud  0 - Sin Clasificar  0 - Sin Asignar   \n",
       "4       Software   Problema          2 - Normal  0 - Sin Asignar   \n",
       "\n",
       "   Días Resolución  Satisfacción   año  \n",
       "0              0.0           5.0  2016  \n",
       "1              0.0           5.0  2016  \n",
       "2              3.0           5.0  2016  \n",
       "3              9.0           5.0  2016  \n",
       "4              0.0           5.0  2016  "
      ]
     },
     "execution_count": 4,
     "metadata": {},
     "output_type": "execute_result"
    }
   ],
   "source": [
    "df_años = pd.read_csv(\"datos/concatenado.csv\") #fichero de la unión años-tiquets\n",
    "df_años.head()"
   ]
  },
  {
   "cell_type": "code",
   "execution_count": 5,
   "metadata": {},
   "outputs": [
    {
     "data": {
      "text/html": [
       "<div>\n",
       "<style scoped>\n",
       "    .dataframe tbody tr th:only-of-type {\n",
       "        vertical-align: middle;\n",
       "    }\n",
       "\n",
       "    .dataframe tbody tr th {\n",
       "        vertical-align: top;\n",
       "    }\n",
       "\n",
       "    .dataframe thead th {\n",
       "        text-align: right;\n",
       "    }\n",
       "</style>\n",
       "<table border=\"1\" class=\"dataframe\">\n",
       "  <thead>\n",
       "    <tr style=\"text-align: right;\">\n",
       "      <th></th>\n",
       "      <th>Unnamed: 0</th>\n",
       "      <th>ID Puesto</th>\n",
       "      <th>Puesto</th>\n",
       "      <th>Departamento</th>\n",
       "      <th>Tipo Puesto</th>\n",
       "      <th>Turno</th>\n",
       "      <th>ID Empleado</th>\n",
       "      <th>Apellido</th>\n",
       "      <th>Nombre</th>\n",
       "      <th>Email</th>\n",
       "    </tr>\n",
       "  </thead>\n",
       "  <tbody>\n",
       "    <tr>\n",
       "      <th>0</th>\n",
       "      <td>0</td>\n",
       "      <td>10-23200</td>\n",
       "      <td>Ingeniero de Materiales</td>\n",
       "      <td>MATERIALES</td>\n",
       "      <td>Operativo</td>\n",
       "      <td>NaN</td>\n",
       "      <td>725</td>\n",
       "      <td>Villa</td>\n",
       "      <td>Eliana</td>\n",
       "      <td>eliana .villa@tractchun.com</td>\n",
       "    </tr>\n",
       "    <tr>\n",
       "      <th>1</th>\n",
       "      <td>1</td>\n",
       "      <td>10-23200</td>\n",
       "      <td>Ingeniero de Materiales</td>\n",
       "      <td>MATERIALES</td>\n",
       "      <td>Operativo</td>\n",
       "      <td>NaN</td>\n",
       "      <td>747</td>\n",
       "      <td>CHAVEZ</td>\n",
       "      <td>FEDERICO</td>\n",
       "      <td>federico.chavez@tractchun.com</td>\n",
       "    </tr>\n",
       "    <tr>\n",
       "      <th>2</th>\n",
       "      <td>2</td>\n",
       "      <td>10-23200</td>\n",
       "      <td>Ingeniero de Materiales</td>\n",
       "      <td>MATERIALES</td>\n",
       "      <td>Operativo</td>\n",
       "      <td>NaN</td>\n",
       "      <td>544</td>\n",
       "      <td>FIGUEROA</td>\n",
       "      <td>ANGEL</td>\n",
       "      <td>angel.figueroa@tractchun.com</td>\n",
       "    </tr>\n",
       "    <tr>\n",
       "      <th>3</th>\n",
       "      <td>3</td>\n",
       "      <td>10-24111</td>\n",
       "      <td>Operador de Producción</td>\n",
       "      <td>MATERIALES</td>\n",
       "      <td>Operativo</td>\n",
       "      <td>NaN</td>\n",
       "      <td>1376</td>\n",
       "      <td>Piedrahita</td>\n",
       "      <td>Gonzalo</td>\n",
       "      <td>gonzalo.piedrahita@tractchun.com</td>\n",
       "    </tr>\n",
       "    <tr>\n",
       "      <th>4</th>\n",
       "      <td>4</td>\n",
       "      <td>10-24111</td>\n",
       "      <td>Operador de Producción</td>\n",
       "      <td>MATERIALES</td>\n",
       "      <td>Operativo</td>\n",
       "      <td>NaN</td>\n",
       "      <td>44</td>\n",
       "      <td>González</td>\n",
       "      <td>Gonzalo</td>\n",
       "      <td>gonzalo.gonzález@tractchun.com</td>\n",
       "    </tr>\n",
       "  </tbody>\n",
       "</table>\n",
       "</div>"
      ],
      "text/plain": [
       "   Unnamed: 0 ID Puesto                   Puesto Departamento Tipo Puesto  \\\n",
       "0           0  10-23200  Ingeniero de Materiales   MATERIALES   Operativo   \n",
       "1           1  10-23200  Ingeniero de Materiales   MATERIALES   Operativo   \n",
       "2           2  10-23200  Ingeniero de Materiales   MATERIALES   Operativo   \n",
       "3           3  10-24111   Operador de Producción   MATERIALES   Operativo   \n",
       "4           4  10-24111   Operador de Producción   MATERIALES   Operativo   \n",
       "\n",
       "  Turno  ID Empleado    Apellido    Nombre                             Email  \n",
       "0   NaN          725       Villa   Eliana        eliana .villa@tractchun.com  \n",
       "1   NaN          747      CHAVEZ  FEDERICO     federico.chavez@tractchun.com  \n",
       "2   NaN          544    FIGUEROA     ANGEL      angel.figueroa@tractchun.com  \n",
       "3   NaN         1376  Piedrahita   Gonzalo  gonzalo.piedrahita@tractchun.com  \n",
       "4   NaN           44    González   Gonzalo    gonzalo.gonzález@tractchun.com  "
      ]
     },
     "execution_count": 5,
     "metadata": {},
     "output_type": "execute_result"
    }
   ],
   "source": [
    "df_empleados = pd.read_csv(\"datos/mergeado.csv\") #fichero de la unión empleados-puestos\n",
    "df_empleados.head()"
   ]
  },
  {
   "cell_type": "code",
   "execution_count": 6,
   "metadata": {},
   "outputs": [
    {
     "data": {
      "text/html": [
       "<div>\n",
       "<style scoped>\n",
       "    .dataframe tbody tr th:only-of-type {\n",
       "        vertical-align: middle;\n",
       "    }\n",
       "\n",
       "    .dataframe tbody tr th {\n",
       "        vertical-align: top;\n",
       "    }\n",
       "\n",
       "    .dataframe thead th {\n",
       "        text-align: right;\n",
       "    }\n",
       "</style>\n",
       "<table border=\"1\" class=\"dataframe\">\n",
       "  <thead>\n",
       "    <tr style=\"text-align: right;\">\n",
       "      <th></th>\n",
       "      <th>ID Agente</th>\n",
       "      <th>Nombre</th>\n",
       "      <th>email</th>\n",
       "      <th>Fecha de Nacimiento</th>\n",
       "    </tr>\n",
       "  </thead>\n",
       "  <tbody>\n",
       "    <tr>\n",
       "      <th>0</th>\n",
       "      <td>1</td>\n",
       "      <td>Mata Lucero</td>\n",
       "      <td>lucero.mata@tractchun.com</td>\n",
       "      <td>1989/4/28</td>\n",
       "    </tr>\n",
       "    <tr>\n",
       "      <th>1</th>\n",
       "      <td>2</td>\n",
       "      <td>JesusGrajeda</td>\n",
       "      <td>jesus.grajeda@tractchun.com</td>\n",
       "      <td>1979/1/1</td>\n",
       "    </tr>\n",
       "    <tr>\n",
       "      <th>2</th>\n",
       "      <td>3</td>\n",
       "      <td>Elena Velez</td>\n",
       "      <td>elena.velez@tractchun.com</td>\n",
       "      <td>1993/6/6</td>\n",
       "    </tr>\n",
       "    <tr>\n",
       "      <th>3</th>\n",
       "      <td>4</td>\n",
       "      <td>Barraza Alberto</td>\n",
       "      <td>alberto.barraza@tractchun.com</td>\n",
       "      <td>1978/10/20</td>\n",
       "    </tr>\n",
       "    <tr>\n",
       "      <th>4</th>\n",
       "      <td>5</td>\n",
       "      <td>Willyberto Gonzales</td>\n",
       "      <td>willyberto.gonzales@tractchun.com</td>\n",
       "      <td>1973/5/11</td>\n",
       "    </tr>\n",
       "  </tbody>\n",
       "</table>\n",
       "</div>"
      ],
      "text/plain": [
       "   ID Agente               Nombre                              email  \\\n",
       "0          1          Mata Lucero          lucero.mata@tractchun.com   \n",
       "1          2         JesusGrajeda        jesus.grajeda@tractchun.com   \n",
       "2          3          Elena Velez          elena.velez@tractchun.com   \n",
       "3          4      Barraza Alberto      alberto.barraza@tractchun.com   \n",
       "4          5  Willyberto Gonzales  willyberto.gonzales@tractchun.com   \n",
       "\n",
       "  Fecha de Nacimiento  \n",
       "0           1989/4/28  \n",
       "1            1979/1/1  \n",
       "2            1993/6/6  \n",
       "3          1978/10/20  \n",
       "4           1973/5/11  "
      ]
     },
     "execution_count": 6,
     "metadata": {},
     "output_type": "execute_result"
    }
   ],
   "source": [
    "df_agentes = pd.read_csv(\"datos/Agentes.csv\") #fichero de agentes\n",
    "df_agentes.head()"
   ]
  },
  {
   "attachments": {},
   "cell_type": "markdown",
   "metadata": {},
   "source": [
    "\n",
    "\n",
    "Sigamos con más visualizaciones. En este caso trabajaremos con el csv que generamos en el ejercicio de pair programming de Pandas V, ese en el que habíamos unido distintos csv en uno. Al final nos habíamos quedado con los siguientes conjuntos de datos El fichero de la unión de todos los conjuntos de datos de los distintos años El fichero con la unión de los datos de puestos y empleados. El fichero de los agentes. 📌 NOTA Os dejamos abajo los ficheros por si no os hubiera dado tiempo a tenerlos preparados El objetivo de hoy, mejorar algunas de las gráficas que hicimos en el ejericio de pair programming de ayer y crear algunas nuevas aprovechando que tenemos algunas columnas nuevas en dataframe Las preguntas que tendréis que contestar son:\n",
    "\n",
    "1. Ayer creamos un par de gráficas para los tickets de la categoría \"Software\" y \"Hardware\", donde visualizamos el número de clientes que teníamos en cada grupo de satisfacción. Hoy tendréis que hacer dos gráficas con subplots:\n",
    "\n",
    "- En la primera debéis mostrar la cantidad de tickets en función del tipo (si es Problema o Solicitud), cada subplot corresponderá a cada una de las categorías. Debéis:\n",
    "\n",
    "-Poner nombre a los ejes de cada uno de los subplots\n",
    "\n",
    "- Poner un títulos a cada uno de los subplots\n",
    "\n",
    "- Poner el color de las líneas en negro.\n",
    "\n",
    "- Establecer el tamaño de la gráfica a 15 x 5\n",
    "\n",
    "- Ponerle marcadores a las gráficas\n",
    "\n",
    "- No incluir leyenda"
   ]
  },
  {
   "cell_type": "code",
   "execution_count": 12,
   "metadata": {},
   "outputs": [
    {
     "data": {
      "text/html": [
       "<div>\n",
       "<style scoped>\n",
       "    .dataframe tbody tr th:only-of-type {\n",
       "        vertical-align: middle;\n",
       "    }\n",
       "\n",
       "    .dataframe tbody tr th {\n",
       "        vertical-align: top;\n",
       "    }\n",
       "\n",
       "    .dataframe thead th {\n",
       "        text-align: right;\n",
       "    }\n",
       "</style>\n",
       "<table border=\"1\" class=\"dataframe\">\n",
       "  <thead>\n",
       "    <tr style=\"text-align: right;\">\n",
       "      <th></th>\n",
       "      <th>Unnamed: 0</th>\n",
       "      <th>ID Ticket</th>\n",
       "      <th>Fecha</th>\n",
       "      <th>ID Empleado</th>\n",
       "      <th>ID Agente</th>\n",
       "      <th>Categoría</th>\n",
       "      <th>Tipo</th>\n",
       "      <th>Severidad</th>\n",
       "      <th>Prioridad</th>\n",
       "      <th>Días Resolución</th>\n",
       "      <th>Satisfacción</th>\n",
       "      <th>año</th>\n",
       "    </tr>\n",
       "  </thead>\n",
       "  <tbody>\n",
       "    <tr>\n",
       "      <th>4</th>\n",
       "      <td>4</td>\n",
       "      <td>GDLEER-0042524120</td>\n",
       "      <td>2016-06-03</td>\n",
       "      <td>1842.0</td>\n",
       "      <td>31.0</td>\n",
       "      <td>Software</td>\n",
       "      <td>Problema</td>\n",
       "      <td>2 - Normal</td>\n",
       "      <td>0 - Sin Asignar</td>\n",
       "      <td>0.0</td>\n",
       "      <td>5.0</td>\n",
       "      <td>2016</td>\n",
       "    </tr>\n",
       "  </tbody>\n",
       "</table>\n",
       "</div>"
      ],
      "text/plain": [
       "   Unnamed: 0          ID Ticket       Fecha  ID Empleado  ID Agente  \\\n",
       "4           4  GDLEER-0042524120  2016-06-03       1842.0       31.0   \n",
       "\n",
       "  Categoría      Tipo   Severidad        Prioridad  Días Resolución  \\\n",
       "4  Software  Problema  2 - Normal  0 - Sin Asignar              0.0   \n",
       "\n",
       "   Satisfacción   año  \n",
       "4           5.0  2016  "
      ]
     },
     "execution_count": 12,
     "metadata": {},
     "output_type": "execute_result"
    }
   ],
   "source": [
    "df_sof = df_años[df_años['Categoría'] == 'Software'] #traemos la categoría software\n",
    "df_sof.head(1)"
   ]
  },
  {
   "cell_type": "code",
   "execution_count": 15,
   "metadata": {},
   "outputs": [],
   "source": [
    "df_sof_tip = df_sof['Tipo'].value_counts().reset_index() #sacamos los valores tipo de sofware\n",
    "df_sof_sat = df_sof['Satisfacción'].value_counts().reset_index() #sacamos los valores satisfacción de software"
   ]
  },
  {
   "cell_type": "code",
   "execution_count": 13,
   "metadata": {},
   "outputs": [
    {
     "data": {
      "text/html": [
       "<div>\n",
       "<style scoped>\n",
       "    .dataframe tbody tr th:only-of-type {\n",
       "        vertical-align: middle;\n",
       "    }\n",
       "\n",
       "    .dataframe tbody tr th {\n",
       "        vertical-align: top;\n",
       "    }\n",
       "\n",
       "    .dataframe thead th {\n",
       "        text-align: right;\n",
       "    }\n",
       "</style>\n",
       "<table border=\"1\" class=\"dataframe\">\n",
       "  <thead>\n",
       "    <tr style=\"text-align: right;\">\n",
       "      <th></th>\n",
       "      <th>Unnamed: 0</th>\n",
       "      <th>ID Ticket</th>\n",
       "      <th>Fecha</th>\n",
       "      <th>ID Empleado</th>\n",
       "      <th>ID Agente</th>\n",
       "      <th>Categoría</th>\n",
       "      <th>Tipo</th>\n",
       "      <th>Severidad</th>\n",
       "      <th>Prioridad</th>\n",
       "      <th>Días Resolución</th>\n",
       "      <th>Satisfacción</th>\n",
       "      <th>año</th>\n",
       "    </tr>\n",
       "  </thead>\n",
       "  <tbody>\n",
       "    <tr>\n",
       "      <th>15</th>\n",
       "      <td>15</td>\n",
       "      <td>GDLEER-2342731423</td>\n",
       "      <td>2016-12-27</td>\n",
       "      <td>422.0</td>\n",
       "      <td>24.0</td>\n",
       "      <td>Hardware</td>\n",
       "      <td>Problema</td>\n",
       "      <td>2 - Normal</td>\n",
       "      <td>0 - Sin Asignar</td>\n",
       "      <td>10.0</td>\n",
       "      <td>5.0</td>\n",
       "      <td>2016</td>\n",
       "    </tr>\n",
       "  </tbody>\n",
       "</table>\n",
       "</div>"
      ],
      "text/plain": [
       "    Unnamed: 0          ID Ticket       Fecha  ID Empleado  ID Agente  \\\n",
       "15          15  GDLEER-2342731423  2016-12-27        422.0       24.0   \n",
       "\n",
       "   Categoría      Tipo   Severidad        Prioridad  Días Resolución  \\\n",
       "15  Hardware  Problema  2 - Normal  0 - Sin Asignar             10.0   \n",
       "\n",
       "    Satisfacción   año  \n",
       "15           5.0  2016  "
      ]
     },
     "execution_count": 13,
     "metadata": {},
     "output_type": "execute_result"
    }
   ],
   "source": [
    "df_har = df_años[df_años['Categoría'] == 'Hardware'] #traemos la categoría hardware\n",
    "df_har.head(1)"
   ]
  },
  {
   "cell_type": "code",
   "execution_count": 16,
   "metadata": {},
   "outputs": [],
   "source": [
    "df_har_tip = df_har['Tipo'].value_counts().reset_index() #al igual que arriba, sacamos valores tipo y satisfacción de hardware\n",
    "df_har_sat = df_har['Satisfacción'].value_counts().reset_index()"
   ]
  },
  {
   "cell_type": "code",
   "execution_count": 22,
   "metadata": {},
   "outputs": [
    {
     "data": {
      "image/png": "[encoded data removed]",
      "text/plain": [
       "<Figure size 1080x360 with 2 Axes>"
      ]
     },
     "metadata": {
      "needs_background": "light"
     },
     "output_type": "display_data"
    }
   ],
   "source": [
    "fig,ax = plt.subplots(1,2, figsize=(15,5)) #esta será la gráfica del tipo de tiquets con las instrucciones del enunciado\n",
    "\n",
    "ax[0].bar(df_sof_tip[\"index\"], df_sof_tip[\"Tipo\"], edgecolor='black', color='green')\n",
    "ax[0].set_xlabel('Incidencias')\n",
    "ax[0].set_ylabel('Tiquets')\n",
    "\n",
    "ax[1].bar(df_har_tip['index'], df_har_tip['Tipo'], edgecolor='black', color='yellow')\n",
    "ax[1].set_xlabel('Incidencias')\n",
    "ax[1].set_ylabel('Tiquets')\n",
    "\n",
    "ax[0].set_title('Software')\n",
    "ax[1].set_title('Hardware')\n",
    "\n",
    "plt.savefig('incidencias.jpg') #guardamos en imagen el subplot\n",
    "plt.show()"
   ]
  },
  {
   "cell_type": "markdown",
   "metadata": {},
   "source": []
  },
  {
   "attachments": {},
   "cell_type": "markdown",
   "metadata": {},
   "source": [
    "- -En la segunda debéis mostrar el número de tickets en función de la satisfacción.\n",
    "\n",
    " - De nuevo tendréis que ponerle nombre a los ejes y título a cada gráfica.\n",
    " - En este caso el subplot deberá tener dos filas y una columna\n",
    " - No incluir leyenda\n",
    " - Cambiar el color de las barras\n"
   ]
  },
  {
   "cell_type": "code",
   "execution_count": 36,
   "metadata": {},
   "outputs": [
    {
     "data": {
      "image/png": "[encoded data removed]",
      "text/plain": [
       "<Figure size 1440x720 with 2 Axes>"
      ]
     },
     "metadata": {
      "needs_background": "light"
     },
     "output_type": "display_data"
    }
   ],
   "source": [
    "fig,ax = plt.subplots(2,1, figsize=(20, 10)) #esta será la gráfica de satisfacción con las instrucciones del enunciado\n",
    "\n",
    "ax[0].bar(df_sof_sat[\"index\"], df_sof_sat[\"Satisfacción\"], edgecolor='black', color='violet')\n",
    "ax[0].set_xlabel('Nota Satisfacción')\n",
    "ax[0].set_ylabel('Tiquets')\n",
    "\n",
    "ax[1].bar(df_har_sat['index'], df_har_sat['Satisfacción'], edgecolor='black', color='pink')\n",
    "ax[1].set_xlabel('Nota Satisfacción')\n",
    "ax[1].set_ylabel('Tiquets')\n",
    "\n",
    "ax[0].set_title('Software')\n",
    "ax[1].set_title('Hardware')\n",
    "\n",
    "plt.savefig('satisfaccion.jpg') #guardamos en imagen el subplot\n",
    "plt.show()"
   ]
  },
  {
   "attachments": {},
   "cell_type": "markdown",
   "metadata": {},
   "source": [
    "\n",
    "\n",
    "2. Cread un subplot con dos gráficas, dónde en la primera tengamos el número de empleados por departamento y en la otra por tipo de puesto. Debéis:\n",
    "\n",
    "\n",
    "\n",
    "- Poner leyenda a la gráfica\n",
    "- Cada línea debe ir en un color\n",
    "- Ponerle nombre a los ejes y a la gráfica.\n",
    "- Poner marcadores a las lineas\n"
   ]
  },
  {
   "cell_type": "code",
   "execution_count": 27,
   "metadata": {},
   "outputs": [],
   "source": [
    "df_departamentos = df_empleados['Departamento'].value_counts().reset_index() #Traemos los departamentos del fichero empleados"
   ]
  },
  {
   "cell_type": "code",
   "execution_count": 29,
   "metadata": {},
   "outputs": [
    {
     "data": {
      "text/html": [
       "<div>\n",
       "<style scoped>\n",
       "    .dataframe tbody tr th:only-of-type {\n",
       "        vertical-align: middle;\n",
       "    }\n",
       "\n",
       "    .dataframe tbody tr th {\n",
       "        vertical-align: top;\n",
       "    }\n",
       "\n",
       "    .dataframe thead th {\n",
       "        text-align: right;\n",
       "    }\n",
       "</style>\n",
       "<table border=\"1\" class=\"dataframe\">\n",
       "  <thead>\n",
       "    <tr style=\"text-align: right;\">\n",
       "      <th></th>\n",
       "      <th>index</th>\n",
       "      <th>Departamento</th>\n",
       "    </tr>\n",
       "  </thead>\n",
       "  <tbody>\n",
       "    <tr>\n",
       "      <th>0</th>\n",
       "      <td>PRODUCCION</td>\n",
       "      <td>475</td>\n",
       "    </tr>\n",
       "  </tbody>\n",
       "</table>\n",
       "</div>"
      ],
      "text/plain": [
       "        index  Departamento\n",
       "0  PRODUCCION           475"
      ]
     },
     "execution_count": 29,
     "metadata": {},
     "output_type": "execute_result"
    }
   ],
   "source": [
    "df_departamentos.head(1)"
   ]
  },
  {
   "cell_type": "code",
   "execution_count": 28,
   "metadata": {},
   "outputs": [],
   "source": [
    "df_puestos = df_empleados['Puesto'].value_counts().reset_index()#Traemos los puestos de empleados"
   ]
  },
  {
   "cell_type": "code",
   "execution_count": 35,
   "metadata": {},
   "outputs": [
    {
     "data": {
      "image/png": "[encoded data removed]",
      "text/plain": [
       "<Figure size 2160x1440 with 2 Axes>"
      ]
     },
     "metadata": {
      "needs_background": "light"
     },
     "output_type": "display_data"
    }
   ],
   "source": [
    "fig,ax = plt.subplots(2,1, figsize=(30,20)) #esta será la gráfica de empleados por departamento y puestos, con las instrucciones del enunciado\n",
    "\n",
    "ax[0].bar(df_departamentos[\"index\"], df_departamentos[\"Departamento\"], edgecolor='black', color='grey')\n",
    "ax[0].set_xlabel('Departamentos')\n",
    "ax[0].set_ylabel('Empleados')\n",
    "\n",
    "ax[1].bar(df_puestos['index'], df_puestos['Puesto'], edgecolor='black', color='pink')\n",
    "ax[1].set_xlabel('Puestos')\n",
    "ax[1].set_ylabel('Empleados')\n",
    "\n",
    "ax[0].set_title('Departamentos')\n",
    "ax[1].set_title('Puestos')\n",
    "\n",
    "plt.savefig('departamentos_puestos.jpg') #guardamos en imagen el subplot\n",
    "plt.show()"
   ]
  }
 ],
 "metadata": {
  "kernelspec": {
   "display_name": "base",
   "language": "python",
   "name": "python3"
  },
  "language_info": {
   "codemirror_mode": {
    "name": "ipython",
    "version": 3
   },
   "file_extension": ".py",
   "mimetype": "text/x-python",
   "name": "python",
   "nbconvert_exporter": "python",
   "pygments_lexer": "ipython3",
   "version": "3.9.7"
  },
  "orig_nbformat": 4
 },
 "nbformat": 4,
 "nbformat_minor": 2
}
