{
 "cells": [
  {
   "attachments": {},
   "cell_type": "markdown",
   "metadata": {},
   "source": [
    "1.que categoría es la que recibe más tickets para poder asignar más empleados a esa categoría. Por esto nos piden que averiguemos qué categoría es la que tiene más tickets. Además nos piden que devolvamos esta consulta en un DataFrame.\n",
    "\n",
    "📌 Ordena los resultados de mayor a menor. Esto todavía no lo hemos visto, pero un DataFrame lo podemos ordenar con .sort_values()"
   ]
  },
  {
   "cell_type": "code",
   "execution_count": null,
   "metadata": {},
   "outputs": [],
   "source": []
  },
  {
   "cell_type": "code",
   "execution_count": null,
   "metadata": {},
   "outputs": [],
   "source": []
  },
  {
   "attachments": {},
   "cell_type": "markdown",
   "metadata": {},
   "source": [
    "2.  Nos piden que calculemos la media de satisfacción por cada una de las categorías que tenemos en el dataframe."
   ]
  },
  {
   "cell_type": "code",
   "execution_count": null,
   "metadata": {},
   "outputs": [],
   "source": []
  },
  {
   "cell_type": "code",
   "execution_count": null,
   "metadata": {},
   "outputs": [],
   "source": []
  },
  {
   "attachments": {},
   "cell_type": "markdown",
   "metadata": {},
   "source": [
    "3. Además de la media les devolvamos la desviación estándar de la satisfacción."
   ]
  },
  {
   "cell_type": "code",
   "execution_count": null,
   "metadata": {},
   "outputs": [],
   "source": []
  },
  {
   "cell_type": "code",
   "execution_count": null,
   "metadata": {},
   "outputs": [],
   "source": []
  },
  {
   "attachments": {},
   "cell_type": "markdown",
   "metadata": {},
   "source": [
    "4.  ¿hay diferencias en la satisfacción basándonos en la categoría y el tipo de tickets? Solicitud o Problema."
   ]
  },
  {
   "cell_type": "code",
   "execution_count": null,
   "metadata": {},
   "outputs": [],
   "source": []
  },
  {
   "cell_type": "code",
   "execution_count": null,
   "metadata": {},
   "outputs": [],
   "source": []
  },
  {
   "attachments": {},
   "cell_type": "markdown",
   "metadata": {},
   "source": [
    "5. Número de empleados que tenemos por departamento. Devolved estos resultados en un dataframe. Ordenadad los resultados de mayor a menor basándonos en la cantidad de empleados que tenemos."
   ]
  },
  {
   "cell_type": "code",
   "execution_count": null,
   "metadata": {},
   "outputs": [],
   "source": []
  },
  {
   "cell_type": "code",
   "execution_count": null,
   "metadata": {},
   "outputs": [],
   "source": []
  },
  {
   "attachments": {},
   "cell_type": "markdown",
   "metadata": {},
   "source": [
    "6. BONUS Quieren saber que departamentos son los que tienen de media un indice de satisfacción. \n",
    "\n",
    "💡Pista Para responder a esta pregunta tendremos que unir los dataframes con métodos aprendidos en lecciones anteriores de Pandas."
   ]
  },
  {
   "cell_type": "code",
   "execution_count": null,
   "metadata": {},
   "outputs": [],
   "source": []
  },
  {
   "cell_type": "code",
   "execution_count": null,
   "metadata": {},
   "outputs": [],
   "source": []
  },
  {
   "attachments": {},
   "cell_type": "markdown",
   "metadata": {},
   "source": [
    "7. BONUS Por último, quieres conocer los 5 empleados que tienen mayor valor en la satisfacción y los 5 empleados que tienen un menor valor de satisfacción. Todo esto respecto a la media. En este caso, conseguiremos una dataframe, donde tengamos el el id del empleado y su satisfacción, pero no sabemos su nombre y appelidos. ¿Se os ocurre como conseguir la información del nombre del empleado?"
   ]
  }
 ],
 "metadata": {
  "language_info": {
   "name": "python"
  },
  "orig_nbformat": 4
 },
 "nbformat": 4,
 "nbformat_minor": 2
}
