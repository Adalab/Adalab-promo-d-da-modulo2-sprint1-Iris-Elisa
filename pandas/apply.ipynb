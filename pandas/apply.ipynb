{
 "cells": [
  {
   "cell_type": "code",
   "execution_count": 48,
   "metadata": {},
   "outputs": [],
   "source": [
    "import pandas as pd\n",
    "pd.options.display.max_columns = None\n",
    "import re\n",
    "import numpy as np"
   ]
  },
  {
   "attachments": {},
   "cell_type": "markdown",
   "metadata": {},
   "source": [
    "Seguiremos trabajando con mismos csv que en el pair anterior, el de los empleados que unimos en el pair de unión de datasets y el de los tickets de todos los años. Para ello, lo primero que tendremos que hacer es cargar estos dos csv."
   ]
  },
  {
   "attachments": {},
   "cell_type": "markdown",
   "metadata": {},
   "source": [
    "1. Cread una columna nueva y una función que nos de el mes en el que se solicitó el servicio. Tened en cuenta que todas las filas tienen la misma estructura. A la hora de escribir la función debemos tener en cuenta que puede que no haya la información de mes en la columna de la fecha. En ese caso devolved un nulo (NaN).\n",
    "\n",
    "📌 Nota La fecha tendrá que ir formato de string como \"Enero\", \"Febrero\", etc.\n",
    "\n",
    "💡 Pista 💡Podréis usar regex, pero no es estrictamente necesario."
   ]
  },
  {
   "cell_type": "code",
   "execution_count": 49,
   "metadata": {},
   "outputs": [
    {
     "data": {
      "text/html": [
       "<div>\n",
       "<style scoped>\n",
       "    .dataframe tbody tr th:only-of-type {\n",
       "        vertical-align: middle;\n",
       "    }\n",
       "\n",
       "    .dataframe tbody tr th {\n",
       "        vertical-align: top;\n",
       "    }\n",
       "\n",
       "    .dataframe thead th {\n",
       "        text-align: right;\n",
       "    }\n",
       "</style>\n",
       "<table border=\"1\" class=\"dataframe\">\n",
       "  <thead>\n",
       "    <tr style=\"text-align: right;\">\n",
       "      <th></th>\n",
       "      <th>Unnamed: 0</th>\n",
       "      <th>ID Puesto</th>\n",
       "      <th>Puesto</th>\n",
       "      <th>Departamento</th>\n",
       "      <th>Tipo Puesto</th>\n",
       "      <th>Turno</th>\n",
       "      <th>ID Empleado</th>\n",
       "      <th>Apellido</th>\n",
       "      <th>Nombre</th>\n",
       "      <th>Email</th>\n",
       "    </tr>\n",
       "  </thead>\n",
       "  <tbody>\n",
       "    <tr>\n",
       "      <th>0</th>\n",
       "      <td>0</td>\n",
       "      <td>10-23200</td>\n",
       "      <td>Ingeniero de Materiales</td>\n",
       "      <td>MATERIALES</td>\n",
       "      <td>Operativo</td>\n",
       "      <td>NaN</td>\n",
       "      <td>725</td>\n",
       "      <td>Villa</td>\n",
       "      <td>Eliana</td>\n",
       "      <td>eliana .villa@tractchun.com</td>\n",
       "    </tr>\n",
       "  </tbody>\n",
       "</table>\n",
       "</div>"
      ],
      "text/plain": [
       "   Unnamed: 0 ID Puesto                   Puesto Departamento Tipo Puesto  \\\n",
       "0           0  10-23200  Ingeniero de Materiales   MATERIALES   Operativo   \n",
       "\n",
       "  Turno  ID Empleado Apellido   Nombre                        Email  \n",
       "0   NaN          725    Villa  Eliana   eliana .villa@tractchun.com  "
      ]
     },
     "execution_count": 49,
     "metadata": {},
     "output_type": "execute_result"
    }
   ],
   "source": [
    "df_pe = pd.read_csv(\"datos/mergeado.csv\") #\n",
    "df_pe.head(1)"
   ]
  },
  {
   "cell_type": "code",
   "execution_count": 50,
   "metadata": {},
   "outputs": [
    {
     "data": {
      "text/html": [
       "<div>\n",
       "<style scoped>\n",
       "    .dataframe tbody tr th:only-of-type {\n",
       "        vertical-align: middle;\n",
       "    }\n",
       "\n",
       "    .dataframe tbody tr th {\n",
       "        vertical-align: top;\n",
       "    }\n",
       "\n",
       "    .dataframe thead th {\n",
       "        text-align: right;\n",
       "    }\n",
       "</style>\n",
       "<table border=\"1\" class=\"dataframe\">\n",
       "  <thead>\n",
       "    <tr style=\"text-align: right;\">\n",
       "      <th></th>\n",
       "      <th>Unnamed: 0</th>\n",
       "      <th>ID Puesto</th>\n",
       "      <th>Puesto</th>\n",
       "      <th>Departamento</th>\n",
       "      <th>Tipo Puesto</th>\n",
       "      <th>Turno</th>\n",
       "      <th>ID Empleado</th>\n",
       "      <th>Apellido</th>\n",
       "      <th>Nombre</th>\n",
       "      <th>Email</th>\n",
       "    </tr>\n",
       "  </thead>\n",
       "  <tbody>\n",
       "    <tr>\n",
       "      <th>0</th>\n",
       "      <td>0</td>\n",
       "      <td>10-23200</td>\n",
       "      <td>Ingeniero de Materiales</td>\n",
       "      <td>MATERIALES</td>\n",
       "      <td>Operativo</td>\n",
       "      <td>NaN</td>\n",
       "      <td>725</td>\n",
       "      <td>Villa</td>\n",
       "      <td>Eliana</td>\n",
       "      <td>eliana .villa@tractchun.com</td>\n",
       "    </tr>\n",
       "  </tbody>\n",
       "</table>\n",
       "</div>"
      ],
      "text/plain": [
       "   Unnamed: 0 ID Puesto                   Puesto Departamento Tipo Puesto  \\\n",
       "0           0  10-23200  Ingeniero de Materiales   MATERIALES   Operativo   \n",
       "\n",
       "  Turno  ID Empleado Apellido   Nombre                        Email  \n",
       "0   NaN          725    Villa  Eliana   eliana .villa@tractchun.com  "
      ]
     },
     "execution_count": 50,
     "metadata": {},
     "output_type": "execute_result"
    }
   ],
   "source": [
    "df_copia_pe= df_pe.copy()\n",
    "df_copia_pe.head(1)"
   ]
  },
  {
   "cell_type": "code",
   "execution_count": 51,
   "metadata": {},
   "outputs": [
    {
     "data": {
      "text/html": [
       "<div>\n",
       "<style scoped>\n",
       "    .dataframe tbody tr th:only-of-type {\n",
       "        vertical-align: middle;\n",
       "    }\n",
       "\n",
       "    .dataframe tbody tr th {\n",
       "        vertical-align: top;\n",
       "    }\n",
       "\n",
       "    .dataframe thead th {\n",
       "        text-align: right;\n",
       "    }\n",
       "</style>\n",
       "<table border=\"1\" class=\"dataframe\">\n",
       "  <thead>\n",
       "    <tr style=\"text-align: right;\">\n",
       "      <th></th>\n",
       "      <th>Unnamed: 0</th>\n",
       "      <th>ID Ticket</th>\n",
       "      <th>Fecha</th>\n",
       "      <th>ID Empleado</th>\n",
       "      <th>ID Agente</th>\n",
       "      <th>Categoría</th>\n",
       "      <th>Tipo</th>\n",
       "      <th>Severidad</th>\n",
       "      <th>Prioridad</th>\n",
       "      <th>Días Resolución</th>\n",
       "      <th>Satisfacción</th>\n",
       "      <th>año</th>\n",
       "    </tr>\n",
       "  </thead>\n",
       "  <tbody>\n",
       "    <tr>\n",
       "      <th>0</th>\n",
       "      <td>0</td>\n",
       "      <td>GDDENR-5042564453</td>\n",
       "      <td>2016-07-13</td>\n",
       "      <td>1735.0</td>\n",
       "      <td>4.0</td>\n",
       "      <td>Acceso&amp;%Login</td>\n",
       "      <td>Problema</td>\n",
       "      <td>0 - Sin Clasificar</td>\n",
       "      <td>0 - Sin Asignar</td>\n",
       "      <td>0.0</td>\n",
       "      <td>5.0</td>\n",
       "      <td>2016</td>\n",
       "    </tr>\n",
       "  </tbody>\n",
       "</table>\n",
       "</div>"
      ],
      "text/plain": [
       "   Unnamed: 0          ID Ticket       Fecha  ID Empleado  ID Agente  \\\n",
       "0           0  GDDENR-5042564453  2016-07-13       1735.0        4.0   \n",
       "\n",
       "       Categoría      Tipo           Severidad        Prioridad  \\\n",
       "0  Acceso&%Login  Problema  0 - Sin Clasificar  0 - Sin Asignar   \n",
       "\n",
       "   Días Resolución  Satisfacción   año  \n",
       "0              0.0           5.0  2016  "
      ]
     },
     "execution_count": 51,
     "metadata": {},
     "output_type": "execute_result"
    }
   ],
   "source": [
    "df_tickets = pd.read_csv(\"datos/concatenado.csv\")\n",
    "df_tickets.head(1)"
   ]
  },
  {
   "cell_type": "code",
   "execution_count": 52,
   "metadata": {},
   "outputs": [
    {
     "data": {
      "text/html": [
       "<div>\n",
       "<style scoped>\n",
       "    .dataframe tbody tr th:only-of-type {\n",
       "        vertical-align: middle;\n",
       "    }\n",
       "\n",
       "    .dataframe tbody tr th {\n",
       "        vertical-align: top;\n",
       "    }\n",
       "\n",
       "    .dataframe thead th {\n",
       "        text-align: right;\n",
       "    }\n",
       "</style>\n",
       "<table border=\"1\" class=\"dataframe\">\n",
       "  <thead>\n",
       "    <tr style=\"text-align: right;\">\n",
       "      <th></th>\n",
       "      <th>Unnamed: 0</th>\n",
       "      <th>ID Ticket</th>\n",
       "      <th>Fecha</th>\n",
       "      <th>ID Empleado</th>\n",
       "      <th>ID Agente</th>\n",
       "      <th>Categoría</th>\n",
       "      <th>Tipo</th>\n",
       "      <th>Severidad</th>\n",
       "      <th>Prioridad</th>\n",
       "      <th>Días Resolución</th>\n",
       "      <th>Satisfacción</th>\n",
       "      <th>año</th>\n",
       "    </tr>\n",
       "  </thead>\n",
       "  <tbody>\n",
       "    <tr>\n",
       "      <th>0</th>\n",
       "      <td>0</td>\n",
       "      <td>GDDENR-5042564453</td>\n",
       "      <td>2016-07-13</td>\n",
       "      <td>1735.0</td>\n",
       "      <td>4.0</td>\n",
       "      <td>Acceso&amp;%Login</td>\n",
       "      <td>Problema</td>\n",
       "      <td>0 - Sin Clasificar</td>\n",
       "      <td>0 - Sin Asignar</td>\n",
       "      <td>0.0</td>\n",
       "      <td>5.0</td>\n",
       "      <td>2016</td>\n",
       "    </tr>\n",
       "  </tbody>\n",
       "</table>\n",
       "</div>"
      ],
      "text/plain": [
       "   Unnamed: 0          ID Ticket       Fecha  ID Empleado  ID Agente  \\\n",
       "0           0  GDDENR-5042564453  2016-07-13       1735.0        4.0   \n",
       "\n",
       "       Categoría      Tipo           Severidad        Prioridad  \\\n",
       "0  Acceso&%Login  Problema  0 - Sin Clasificar  0 - Sin Asignar   \n",
       "\n",
       "   Días Resolución  Satisfacción   año  \n",
       "0              0.0           5.0  2016  "
      ]
     },
     "execution_count": 52,
     "metadata": {},
     "output_type": "execute_result"
    }
   ],
   "source": [
    "df_copia_ticket= df_tickets.copy()\n",
    "df_copia_ticket.head(1)"
   ]
  },
  {
   "cell_type": "code",
   "execution_count": 53,
   "metadata": {},
   "outputs": [
    {
     "data": {
      "text/plain": [
       "0"
      ]
     },
     "execution_count": 53,
     "metadata": {},
     "output_type": "execute_result"
    }
   ],
   "source": [
    "df_copia_ticket['Fecha'].isnull().sum() #comprobamos que hay 0 nulos"
   ]
  },
  {
   "cell_type": "code",
   "execution_count": 54,
   "metadata": {},
   "outputs": [],
   "source": [
    "df_copia_ticket['Fecha']= pd.to_datetime(df_copia_ticket['Fecha']) #pasamos a fecha el formato str"
   ]
  },
  {
   "cell_type": "code",
   "execution_count": 55,
   "metadata": {},
   "outputs": [],
   "source": [
    "def sacar_mes(x): #función para extraer el mes \n",
    "        try:\n",
    "                return x.strftime(\"%B\")\n",
    "        except:\n",
    "            return np.nan\n",
    "                "
   ]
  },
  {
   "cell_type": "code",
   "execution_count": 56,
   "metadata": {},
   "outputs": [
    {
     "data": {
      "text/html": [
       "<div>\n",
       "<style scoped>\n",
       "    .dataframe tbody tr th:only-of-type {\n",
       "        vertical-align: middle;\n",
       "    }\n",
       "\n",
       "    .dataframe tbody tr th {\n",
       "        vertical-align: top;\n",
       "    }\n",
       "\n",
       "    .dataframe thead th {\n",
       "        text-align: right;\n",
       "    }\n",
       "</style>\n",
       "<table border=\"1\" class=\"dataframe\">\n",
       "  <thead>\n",
       "    <tr style=\"text-align: right;\">\n",
       "      <th></th>\n",
       "      <th>Unnamed: 0</th>\n",
       "      <th>ID Ticket</th>\n",
       "      <th>Fecha</th>\n",
       "      <th>ID Empleado</th>\n",
       "      <th>ID Agente</th>\n",
       "      <th>Categoría</th>\n",
       "      <th>Tipo</th>\n",
       "      <th>Severidad</th>\n",
       "      <th>Prioridad</th>\n",
       "      <th>Días Resolución</th>\n",
       "      <th>Satisfacción</th>\n",
       "      <th>año</th>\n",
       "      <th>mes</th>\n",
       "    </tr>\n",
       "  </thead>\n",
       "  <tbody>\n",
       "    <tr>\n",
       "      <th>0</th>\n",
       "      <td>0</td>\n",
       "      <td>GDDENR-5042564453</td>\n",
       "      <td>2016-07-13</td>\n",
       "      <td>1735.0</td>\n",
       "      <td>4.0</td>\n",
       "      <td>Acceso&amp;%Login</td>\n",
       "      <td>Problema</td>\n",
       "      <td>0 - Sin Clasificar</td>\n",
       "      <td>0 - Sin Asignar</td>\n",
       "      <td>0.0</td>\n",
       "      <td>5.0</td>\n",
       "      <td>2016</td>\n",
       "      <td>July</td>\n",
       "    </tr>\n",
       "  </tbody>\n",
       "</table>\n",
       "</div>"
      ],
      "text/plain": [
       "   Unnamed: 0          ID Ticket      Fecha  ID Empleado  ID Agente  \\\n",
       "0           0  GDDENR-5042564453 2016-07-13       1735.0        4.0   \n",
       "\n",
       "       Categoría      Tipo           Severidad        Prioridad  \\\n",
       "0  Acceso&%Login  Problema  0 - Sin Clasificar  0 - Sin Asignar   \n",
       "\n",
       "   Días Resolución  Satisfacción   año   mes  \n",
       "0              0.0           5.0  2016  July  "
      ]
     },
     "execution_count": 56,
     "metadata": {},
     "output_type": "execute_result"
    }
   ],
   "source": [
    "df_copia_ticket[\"mes\"] = df_copia_ticket[\"Fecha\"].apply(sacar_mes)\n",
    "df_copia_ticket.head(1)"
   ]
  },
  {
   "attachments": {},
   "cell_type": "markdown",
   "metadata": {},
   "source": [
    "2. En la tabla de empleados, tenemos los nombres y los apellidos de los empleados, pero en columnas separadas. En los ejercicios de pair de la lección del groupby vimos que si quisieramos agrupar por los nombres, esto se nos puede complicar. Ahora nos piden que creemos una columna donde tengamos el nombre y el apellido juntos.\n",
    "\n",
    "📌 NOTA La columna nueva debe tener el nombre y apellido con la primera letra en mayúsculas, por ejemplo \"Jesús Villa\".\n",
    "\n",
    "📌 NOTA Una vez hallamos creado la columna nueva, eliminad las columnas de nombre y apellido originales."
   ]
  },
  {
   "cell_type": "code",
   "execution_count": 57,
   "metadata": {},
   "outputs": [
    {
     "data": {
      "text/html": [
       "<div>\n",
       "<style scoped>\n",
       "    .dataframe tbody tr th:only-of-type {\n",
       "        vertical-align: middle;\n",
       "    }\n",
       "\n",
       "    .dataframe tbody tr th {\n",
       "        vertical-align: top;\n",
       "    }\n",
       "\n",
       "    .dataframe thead th {\n",
       "        text-align: right;\n",
       "    }\n",
       "</style>\n",
       "<table border=\"1\" class=\"dataframe\">\n",
       "  <thead>\n",
       "    <tr style=\"text-align: right;\">\n",
       "      <th></th>\n",
       "      <th>Unnamed: 0</th>\n",
       "      <th>ID Puesto</th>\n",
       "      <th>Puesto</th>\n",
       "      <th>Departamento</th>\n",
       "      <th>Tipo Puesto</th>\n",
       "      <th>Turno</th>\n",
       "      <th>ID Empleado</th>\n",
       "      <th>Apellido</th>\n",
       "      <th>Nombre</th>\n",
       "      <th>Email</th>\n",
       "    </tr>\n",
       "  </thead>\n",
       "  <tbody>\n",
       "    <tr>\n",
       "      <th>0</th>\n",
       "      <td>0</td>\n",
       "      <td>10-23200</td>\n",
       "      <td>Ingeniero de Materiales</td>\n",
       "      <td>MATERIALES</td>\n",
       "      <td>Operativo</td>\n",
       "      <td>NaN</td>\n",
       "      <td>725</td>\n",
       "      <td>Villa</td>\n",
       "      <td>Eliana</td>\n",
       "      <td>eliana .villa@tractchun.com</td>\n",
       "    </tr>\n",
       "  </tbody>\n",
       "</table>\n",
       "</div>"
      ],
      "text/plain": [
       "   Unnamed: 0 ID Puesto                   Puesto Departamento Tipo Puesto  \\\n",
       "0           0  10-23200  Ingeniero de Materiales   MATERIALES   Operativo   \n",
       "\n",
       "  Turno  ID Empleado Apellido   Nombre                        Email  \n",
       "0   NaN          725    Villa  Eliana   eliana .villa@tractchun.com  "
      ]
     },
     "execution_count": 57,
     "metadata": {},
     "output_type": "execute_result"
    }
   ],
   "source": [
    "df_copia_pe.head(1)"
   ]
  },
  {
   "cell_type": "code",
   "execution_count": 58,
   "metadata": {},
   "outputs": [],
   "source": [
    "def sacar_nombre(nombre, apellido):\n",
    "    return nombre + ' ' + apellido\n"
   ]
  },
  {
   "cell_type": "code",
   "execution_count": 59,
   "metadata": {},
   "outputs": [],
   "source": [
    "df_nombre = df_copia_pe.apply(lambda dataframe: sacar_nombre(dataframe['Nombre'], dataframe['Apellido']), axis=1 )\n",
    "df_nombre_completo =pd.DataFrame(df_nombre)"
   ]
  },
  {
   "cell_type": "code",
   "execution_count": 60,
   "metadata": {},
   "outputs": [
    {
     "data": {
      "text/html": [
       "<div>\n",
       "<style scoped>\n",
       "    .dataframe tbody tr th:only-of-type {\n",
       "        vertical-align: middle;\n",
       "    }\n",
       "\n",
       "    .dataframe tbody tr th {\n",
       "        vertical-align: top;\n",
       "    }\n",
       "\n",
       "    .dataframe thead th {\n",
       "        text-align: right;\n",
       "    }\n",
       "</style>\n",
       "<table border=\"1\" class=\"dataframe\">\n",
       "  <thead>\n",
       "    <tr style=\"text-align: right;\">\n",
       "      <th></th>\n",
       "      <th>Nombre_Apellidos</th>\n",
       "    </tr>\n",
       "  </thead>\n",
       "  <tbody>\n",
       "    <tr>\n",
       "      <th>0</th>\n",
       "      <td>Eliana  Villa</td>\n",
       "    </tr>\n",
       "    <tr>\n",
       "      <th>1</th>\n",
       "      <td>FEDERICO CHAVEZ</td>\n",
       "    </tr>\n",
       "    <tr>\n",
       "      <th>2</th>\n",
       "      <td>ANGEL FIGUEROA</td>\n",
       "    </tr>\n",
       "    <tr>\n",
       "      <th>3</th>\n",
       "      <td>Gonzalo Piedrahita</td>\n",
       "    </tr>\n",
       "    <tr>\n",
       "      <th>4</th>\n",
       "      <td>Gonzalo González</td>\n",
       "    </tr>\n",
       "    <tr>\n",
       "      <th>...</th>\n",
       "      <td>...</td>\n",
       "    </tr>\n",
       "    <tr>\n",
       "      <th>1995</th>\n",
       "      <td>GAMBOA FIGUEROA</td>\n",
       "    </tr>\n",
       "    <tr>\n",
       "      <th>1996</th>\n",
       "      <td>LOURDES MATA</td>\n",
       "    </tr>\n",
       "    <tr>\n",
       "      <th>1997</th>\n",
       "      <td>ELENA MORALES</td>\n",
       "    </tr>\n",
       "    <tr>\n",
       "      <th>1998</th>\n",
       "      <td>DIOGENES MEDINA</td>\n",
       "    </tr>\n",
       "    <tr>\n",
       "      <th>1999</th>\n",
       "      <td>Jose Cardona</td>\n",
       "    </tr>\n",
       "  </tbody>\n",
       "</table>\n",
       "<p>2000 rows × 1 columns</p>\n",
       "</div>"
      ],
      "text/plain": [
       "        Nombre_Apellidos\n",
       "0          Eliana  Villa\n",
       "1        FEDERICO CHAVEZ\n",
       "2         ANGEL FIGUEROA\n",
       "3     Gonzalo Piedrahita\n",
       "4       Gonzalo González\n",
       "...                  ...\n",
       "1995     GAMBOA FIGUEROA\n",
       "1996        LOURDES MATA\n",
       "1997       ELENA MORALES\n",
       "1998     DIOGENES MEDINA\n",
       "1999        Jose Cardona\n",
       "\n",
       "[2000 rows x 1 columns]"
      ]
     },
     "execution_count": 60,
     "metadata": {},
     "output_type": "execute_result"
    }
   ],
   "source": [
    "df_nombre_completo.rename(columns={0: 'Nombre_Apellidos'}, inplace=True)\n",
    "df_nombre_completo"
   ]
  },
  {
   "cell_type": "code",
   "execution_count": null,
   "metadata": {},
   "outputs": [],
   "source": [
    "mergeado_izq = pd.merge(left=nombre, right=df_species, how='left',\n",
    "                        left_on='species_id', right_on='species_id')\n"
   ]
  },
  {
   "attachments": {},
   "cell_type": "markdown",
   "metadata": {},
   "source": [
    "3. En el pair programming desde a dirección nos pedían que agruparamos los datos en base a la columna de \"categoría\", puede que en aquel momento nos dieramos cuenta que había varías categorías que eran igual (en concreto \"Acceso Login\") pero que en algunos casos tenía unos símbolos raros (&, %, -). Es el momento de limpiar esta columna. El objetivo, reemplazar todos estos símbolos raros por \"/\", para conseguir homogeneizar los valores de esta columna. Para ellos deberemos crear una función."
   ]
  },
  {
   "cell_type": "code",
   "execution_count": null,
   "metadata": {},
   "outputs": [],
   "source": []
  },
  {
   "cell_type": "code",
   "execution_count": null,
   "metadata": {},
   "outputs": [],
   "source": []
  },
  {
   "attachments": {},
   "cell_type": "markdown",
   "metadata": {},
   "source": [
    "4. Una vez que hayáis terminado eliminad las columnas originales conservando las nuevas."
   ]
  },
  {
   "cell_type": "code",
   "execution_count": null,
   "metadata": {},
   "outputs": [],
   "source": []
  },
  {
   "cell_type": "code",
   "execution_count": null,
   "metadata": {},
   "outputs": [],
   "source": []
  },
  {
   "attachments": {},
   "cell_type": "markdown",
   "metadata": {},
   "source": [
    "5. Guardad el dataframe en un csv que usaremos más adelante"
   ]
  }
 ],
 "metadata": {
  "kernelspec": {
   "display_name": "base",
   "language": "python",
   "name": "python3"
  },
  "language_info": {
   "codemirror_mode": {
    "name": "ipython",
    "version": 3
   },
   "file_extension": ".py",
   "mimetype": "text/x-python",
   "name": "python",
   "nbconvert_exporter": "python",
   "pygments_lexer": "ipython3",
   "version": "3.9.7"
  },
  "orig_nbformat": 4
 },
 "nbformat": 4,
 "nbformat_minor": 2
}
