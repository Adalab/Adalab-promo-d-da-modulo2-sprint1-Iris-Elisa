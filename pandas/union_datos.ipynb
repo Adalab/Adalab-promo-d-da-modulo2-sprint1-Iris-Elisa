{
 "cells": [
  {
   "cell_type": "code",
   "execution_count": 26,
   "metadata": {},
   "outputs": [],
   "source": [
    "import pandas as pd\n",
    "import numpy as np"
   ]
  },
  {
   "attachments": {},
   "cell_type": "markdown",
   "metadata": {},
   "source": [
    "Antes de empezar, deberéis crear una columna nueva en los dataframes de 2016.xlsx, 2017.xlsx, 2018.xlsx, 2019.xlsx, 2020.xlsx que contenga los valores del año al que corresponden.\n",
    "\n",
    "1. Cargad los siete ficheros nombrados anteriormente y los exploramos para familizarizarnos con ellos y saber que información tienen en común y debatir entre vosotras como podríamos juntar toda la información."
   ]
  },
  {
   "cell_type": "code",
   "execution_count": 27,
   "metadata": {},
   "outputs": [
    {
     "data": {
      "text/html": [
       "<div>\n",
       "<style scoped>\n",
       "    .dataframe tbody tr th:only-of-type {\n",
       "        vertical-align: middle;\n",
       "    }\n",
       "\n",
       "    .dataframe tbody tr th {\n",
       "        vertical-align: top;\n",
       "    }\n",
       "\n",
       "    .dataframe thead th {\n",
       "        text-align: right;\n",
       "    }\n",
       "</style>\n",
       "<table border=\"1\" class=\"dataframe\">\n",
       "  <thead>\n",
       "    <tr style=\"text-align: right;\">\n",
       "      <th></th>\n",
       "      <th>id_ticket</th>\n",
       "      <th>fecha</th>\n",
       "      <th>id_empleado</th>\n",
       "      <th>id_agente</th>\n",
       "      <th>categoría</th>\n",
       "      <th>tipo</th>\n",
       "      <th>severidad</th>\n",
       "      <th>prioridad</th>\n",
       "      <th>días_resolución</th>\n",
       "      <th>satisfacción</th>\n",
       "      <th>semestre</th>\n",
       "    </tr>\n",
       "  </thead>\n",
       "  <tbody>\n",
       "    <tr>\n",
       "      <th>0</th>\n",
       "      <td>GDDENR-5042564453</td>\n",
       "      <td>2016-07-13</td>\n",
       "      <td>1735.0</td>\n",
       "      <td>4.0</td>\n",
       "      <td>Acceso&amp;%Login</td>\n",
       "      <td>Problema</td>\n",
       "      <td>0 - Sin Clasificar</td>\n",
       "      <td>0 - Sin Asignar</td>\n",
       "      <td>0.0</td>\n",
       "      <td>5.0</td>\n",
       "      <td>2º semestre</td>\n",
       "    </tr>\n",
       "  </tbody>\n",
       "</table>\n",
       "</div>"
      ],
      "text/plain": [
       "           id_ticket       fecha  id_empleado  id_agente      categoría  \\\n",
       "0  GDDENR-5042564453  2016-07-13       1735.0        4.0  Acceso&%Login   \n",
       "\n",
       "       tipo           severidad        prioridad  días_resolución  \\\n",
       "0  Problema  0 - Sin Clasificar  0 - Sin Asignar              0.0   \n",
       "\n",
       "   satisfacción     semestre  \n",
       "0           5.0  2º semestre  "
      ]
     },
     "execution_count": 27,
     "metadata": {},
     "output_type": "execute_result"
    }
   ],
   "source": [
    "df_2016 = pd.read_csv(\"datos/df_yeaar.csv\", index_col=0)\n",
    "df_2016.head(1)"
   ]
  },
  {
   "cell_type": "code",
   "execution_count": 28,
   "metadata": {},
   "outputs": [
    {
     "data": {
      "text/plain": [
       "Index(['id_ticket', 'fecha', 'id_empleado', 'id_agente', 'categoría', 'tipo',\n",
       "       'severidad', 'prioridad', 'días_resolución', 'satisfacción',\n",
       "       'semestre'],\n",
       "      dtype='object')"
      ]
     },
     "execution_count": 28,
     "metadata": {},
     "output_type": "execute_result"
    }
   ],
   "source": [
    "df_2016.columns"
   ]
  },
  {
   "cell_type": "code",
   "execution_count": 29,
   "metadata": {},
   "outputs": [],
   "source": [
    "df_2016.rename(columns={'id_ticket' : 'ID Ticket', 'fecha': 'Fecha', 'id_empleado' :'ID Empleado', 'id_agente' :'ID Agente', 'categoría' : 'Categoría', 'tipo': 'Tipo', 'severidad':'Severidad', 'prioridad': 'Prioridad', 'días_resolución': 'Días Resolución', 'satisfacción':'Satisfacción'}, inplace=True)"
   ]
  },
  {
   "cell_type": "code",
   "execution_count": 30,
   "metadata": {},
   "outputs": [
    {
     "data": {
      "text/html": [
       "<div>\n",
       "<style scoped>\n",
       "    .dataframe tbody tr th:only-of-type {\n",
       "        vertical-align: middle;\n",
       "    }\n",
       "\n",
       "    .dataframe tbody tr th {\n",
       "        vertical-align: top;\n",
       "    }\n",
       "\n",
       "    .dataframe thead th {\n",
       "        text-align: right;\n",
       "    }\n",
       "</style>\n",
       "<table border=\"1\" class=\"dataframe\">\n",
       "  <thead>\n",
       "    <tr style=\"text-align: right;\">\n",
       "      <th></th>\n",
       "      <th>ID Ticket</th>\n",
       "      <th>Fecha</th>\n",
       "      <th>ID Empleado</th>\n",
       "      <th>ID Agente</th>\n",
       "      <th>Categoría</th>\n",
       "      <th>Tipo</th>\n",
       "      <th>Severidad</th>\n",
       "      <th>Prioridad</th>\n",
       "      <th>Días Resolución</th>\n",
       "      <th>Satisfacción</th>\n",
       "      <th>semestre</th>\n",
       "      <th>año</th>\n",
       "    </tr>\n",
       "  </thead>\n",
       "  <tbody>\n",
       "    <tr>\n",
       "      <th>0</th>\n",
       "      <td>GDDENR-5042564453</td>\n",
       "      <td>2016-07-13</td>\n",
       "      <td>1735.0</td>\n",
       "      <td>4.0</td>\n",
       "      <td>Acceso&amp;%Login</td>\n",
       "      <td>Problema</td>\n",
       "      <td>0 - Sin Clasificar</td>\n",
       "      <td>0 - Sin Asignar</td>\n",
       "      <td>0.0</td>\n",
       "      <td>5.0</td>\n",
       "      <td>2º semestre</td>\n",
       "      <td>2016</td>\n",
       "    </tr>\n",
       "  </tbody>\n",
       "</table>\n",
       "</div>"
      ],
      "text/plain": [
       "           ID Ticket       Fecha  ID Empleado  ID Agente      Categoría  \\\n",
       "0  GDDENR-5042564453  2016-07-13       1735.0        4.0  Acceso&%Login   \n",
       "\n",
       "       Tipo           Severidad        Prioridad  Días Resolución  \\\n",
       "0  Problema  0 - Sin Clasificar  0 - Sin Asignar              0.0   \n",
       "\n",
       "   Satisfacción     semestre   año  \n",
       "0           5.0  2º semestre  2016  "
      ]
     },
     "execution_count": 30,
     "metadata": {},
     "output_type": "execute_result"
    }
   ],
   "source": [
    "df_2016['año']=2016\n",
    "df_2016.head(1)"
   ]
  },
  {
   "cell_type": "code",
   "execution_count": 31,
   "metadata": {},
   "outputs": [],
   "source": [
    "df_2017 = pd.read_excel(\"datos/2017.xlsx\", index_col=0)"
   ]
  },
  {
   "cell_type": "code",
   "execution_count": 32,
   "metadata": {},
   "outputs": [],
   "source": [
    "valores = ['1er semestre', '2º semestre']\n",
    "condiciones = [df_2017['Fecha'].dt.month <= 6, df_2017['Fecha'].dt.month > 6]"
   ]
  },
  {
   "cell_type": "code",
   "execution_count": 33,
   "metadata": {},
   "outputs": [],
   "source": [
    "df_2017['Fecha'] = pd.to_datetime(df_2017['Fecha'])"
   ]
  },
  {
   "cell_type": "code",
   "execution_count": 34,
   "metadata": {},
   "outputs": [
    {
     "data": {
      "text/html": [
       "<div>\n",
       "<style scoped>\n",
       "    .dataframe tbody tr th:only-of-type {\n",
       "        vertical-align: middle;\n",
       "    }\n",
       "\n",
       "    .dataframe tbody tr th {\n",
       "        vertical-align: top;\n",
       "    }\n",
       "\n",
       "    .dataframe thead th {\n",
       "        text-align: right;\n",
       "    }\n",
       "</style>\n",
       "<table border=\"1\" class=\"dataframe\">\n",
       "  <thead>\n",
       "    <tr style=\"text-align: right;\">\n",
       "      <th></th>\n",
       "      <th>Fecha</th>\n",
       "      <th>ID Empleado</th>\n",
       "      <th>ID Agente</th>\n",
       "      <th>Categoría</th>\n",
       "      <th>Tipo</th>\n",
       "      <th>Severidad</th>\n",
       "      <th>Prioridad</th>\n",
       "      <th>Días Resolución</th>\n",
       "      <th>Satisfacción</th>\n",
       "      <th>año</th>\n",
       "      <th>semestre</th>\n",
       "    </tr>\n",
       "    <tr>\n",
       "      <th>ID Ticket</th>\n",
       "      <th></th>\n",
       "      <th></th>\n",
       "      <th></th>\n",
       "      <th></th>\n",
       "      <th></th>\n",
       "      <th></th>\n",
       "      <th></th>\n",
       "      <th></th>\n",
       "      <th></th>\n",
       "      <th></th>\n",
       "      <th></th>\n",
       "    </tr>\n",
       "  </thead>\n",
       "  <tbody>\n",
       "    <tr>\n",
       "      <th>GDDEER-8142900901</th>\n",
       "      <td>2017-06-14</td>\n",
       "      <td>1200.0</td>\n",
       "      <td>29.0</td>\n",
       "      <td>Software</td>\n",
       "      <td>Problema</td>\n",
       "      <td>0 - Sin Clasificar</td>\n",
       "      <td>0 - Sin Asignar</td>\n",
       "      <td>1.0</td>\n",
       "      <td>5.0</td>\n",
       "      <td>2017</td>\n",
       "      <td>1er semestre</td>\n",
       "    </tr>\n",
       "  </tbody>\n",
       "</table>\n",
       "</div>"
      ],
      "text/plain": [
       "                       Fecha  ID Empleado  ID Agente Categoría      Tipo  \\\n",
       "ID Ticket                                                                  \n",
       "GDDEER-8142900901 2017-06-14       1200.0       29.0  Software  Problema   \n",
       "\n",
       "                            Severidad        Prioridad  Días Resolución  \\\n",
       "ID Ticket                                                                 \n",
       "GDDEER-8142900901  0 - Sin Clasificar  0 - Sin Asignar              1.0   \n",
       "\n",
       "                   Satisfacción   año      semestre  \n",
       "ID Ticket                                            \n",
       "GDDEER-8142900901           5.0  2017  1er semestre  "
      ]
     },
     "execution_count": 34,
     "metadata": {},
     "output_type": "execute_result"
    }
   ],
   "source": [
    "df_2017['año']=2017\n",
    "df_2017['semestre'] = np.select(condiciones, valores)\n",
    "df_2017.head(1)"
   ]
  },
  {
   "cell_type": "code",
   "execution_count": 35,
   "metadata": {},
   "outputs": [
    {
     "data": {
      "text/html": [
       "<div>\n",
       "<style scoped>\n",
       "    .dataframe tbody tr th:only-of-type {\n",
       "        vertical-align: middle;\n",
       "    }\n",
       "\n",
       "    .dataframe tbody tr th {\n",
       "        vertical-align: top;\n",
       "    }\n",
       "\n",
       "    .dataframe thead th {\n",
       "        text-align: right;\n",
       "    }\n",
       "</style>\n",
       "<table border=\"1\" class=\"dataframe\">\n",
       "  <thead>\n",
       "    <tr style=\"text-align: right;\">\n",
       "      <th></th>\n",
       "      <th>Fecha</th>\n",
       "      <th>ID Empleado</th>\n",
       "      <th>ID Agente</th>\n",
       "      <th>Categoría</th>\n",
       "      <th>Tipo</th>\n",
       "      <th>Severidad</th>\n",
       "      <th>Prioridad</th>\n",
       "      <th>Días Resolución</th>\n",
       "      <th>Satisfacción</th>\n",
       "    </tr>\n",
       "    <tr>\n",
       "      <th>ID Ticket</th>\n",
       "      <th></th>\n",
       "      <th></th>\n",
       "      <th></th>\n",
       "      <th></th>\n",
       "      <th></th>\n",
       "      <th></th>\n",
       "      <th></th>\n",
       "      <th></th>\n",
       "      <th></th>\n",
       "    </tr>\n",
       "  </thead>\n",
       "  <tbody>\n",
       "    <tr>\n",
       "      <th>GDDEER-9743106195</th>\n",
       "      <td>2018-01-06</td>\n",
       "      <td>759.0</td>\n",
       "      <td>21.0</td>\n",
       "      <td>Hardware</td>\n",
       "      <td>Problema</td>\n",
       "      <td>0 - Sin Clasificar</td>\n",
       "      <td>0 - Sin Asignar</td>\n",
       "      <td>7.0</td>\n",
       "      <td>5.0</td>\n",
       "    </tr>\n",
       "  </tbody>\n",
       "</table>\n",
       "</div>"
      ],
      "text/plain": [
       "                       Fecha  ID Empleado  ID Agente Categoría      Tipo  \\\n",
       "ID Ticket                                                                  \n",
       "GDDEER-9743106195 2018-01-06        759.0       21.0  Hardware  Problema   \n",
       "\n",
       "                            Severidad        Prioridad  Días Resolución  \\\n",
       "ID Ticket                                                                 \n",
       "GDDEER-9743106195  0 - Sin Clasificar  0 - Sin Asignar              7.0   \n",
       "\n",
       "                   Satisfacción  \n",
       "ID Ticket                        \n",
       "GDDEER-9743106195           5.0  "
      ]
     },
     "execution_count": 35,
     "metadata": {},
     "output_type": "execute_result"
    }
   ],
   "source": [
    "df_2018 = pd.read_excel(\"datos/2018.xlsx\", index_col=0)\n",
    "df_2018.head(1)"
   ]
  },
  {
   "cell_type": "code",
   "execution_count": 36,
   "metadata": {},
   "outputs": [],
   "source": [
    "df_2018['Fecha'] = pd.to_datetime(df_2018['Fecha'])\n",
    "condiciones18 = [df_2018['Fecha'].dt.month <= 6, df_2018['Fecha'].dt.month > 6]"
   ]
  },
  {
   "cell_type": "code",
   "execution_count": 37,
   "metadata": {},
   "outputs": [
    {
     "data": {
      "text/html": [
       "<div>\n",
       "<style scoped>\n",
       "    .dataframe tbody tr th:only-of-type {\n",
       "        vertical-align: middle;\n",
       "    }\n",
       "\n",
       "    .dataframe tbody tr th {\n",
       "        vertical-align: top;\n",
       "    }\n",
       "\n",
       "    .dataframe thead th {\n",
       "        text-align: right;\n",
       "    }\n",
       "</style>\n",
       "<table border=\"1\" class=\"dataframe\">\n",
       "  <thead>\n",
       "    <tr style=\"text-align: right;\">\n",
       "      <th></th>\n",
       "      <th>Fecha</th>\n",
       "      <th>ID Empleado</th>\n",
       "      <th>ID Agente</th>\n",
       "      <th>Categoría</th>\n",
       "      <th>Tipo</th>\n",
       "      <th>Severidad</th>\n",
       "      <th>Prioridad</th>\n",
       "      <th>Días Resolución</th>\n",
       "      <th>Satisfacción</th>\n",
       "      <th>año</th>\n",
       "      <th>semestre</th>\n",
       "    </tr>\n",
       "    <tr>\n",
       "      <th>ID Ticket</th>\n",
       "      <th></th>\n",
       "      <th></th>\n",
       "      <th></th>\n",
       "      <th></th>\n",
       "      <th></th>\n",
       "      <th></th>\n",
       "      <th></th>\n",
       "      <th></th>\n",
       "      <th></th>\n",
       "      <th></th>\n",
       "      <th></th>\n",
       "    </tr>\n",
       "  </thead>\n",
       "  <tbody>\n",
       "    <tr>\n",
       "      <th>GDDEER-9743106195</th>\n",
       "      <td>2018-01-06</td>\n",
       "      <td>759.0</td>\n",
       "      <td>21.0</td>\n",
       "      <td>Hardware</td>\n",
       "      <td>Problema</td>\n",
       "      <td>0 - Sin Clasificar</td>\n",
       "      <td>0 - Sin Asignar</td>\n",
       "      <td>7.0</td>\n",
       "      <td>5.0</td>\n",
       "      <td>2018</td>\n",
       "      <td>1er semestre</td>\n",
       "    </tr>\n",
       "  </tbody>\n",
       "</table>\n",
       "</div>"
      ],
      "text/plain": [
       "                       Fecha  ID Empleado  ID Agente Categoría      Tipo  \\\n",
       "ID Ticket                                                                  \n",
       "GDDEER-9743106195 2018-01-06        759.0       21.0  Hardware  Problema   \n",
       "\n",
       "                            Severidad        Prioridad  Días Resolución  \\\n",
       "ID Ticket                                                                 \n",
       "GDDEER-9743106195  0 - Sin Clasificar  0 - Sin Asignar              7.0   \n",
       "\n",
       "                   Satisfacción   año      semestre  \n",
       "ID Ticket                                            \n",
       "GDDEER-9743106195           5.0  2018  1er semestre  "
      ]
     },
     "execution_count": 37,
     "metadata": {},
     "output_type": "execute_result"
    }
   ],
   "source": [
    "df_2018['año']=2018\n",
    "df_2018['semestre'] = np.select(condiciones18, valores)\n",
    "df_2018.head(1)"
   ]
  },
  {
   "cell_type": "code",
   "execution_count": 38,
   "metadata": {},
   "outputs": [],
   "source": [
    "df_2019 = pd.read_excel(\"datos/2019.xlsx\", index_col=0)"
   ]
  },
  {
   "cell_type": "code",
   "execution_count": 39,
   "metadata": {},
   "outputs": [],
   "source": [
    "df_2019['Fecha'] = pd.to_datetime(df_2019['Fecha'])\n",
    "condiciones19 = [df_2019['Fecha'].dt.month <= 6, df_2019['Fecha'].dt.month > 6]"
   ]
  },
  {
   "cell_type": "code",
   "execution_count": 40,
   "metadata": {},
   "outputs": [
    {
     "data": {
      "text/html": [
       "<div>\n",
       "<style scoped>\n",
       "    .dataframe tbody tr th:only-of-type {\n",
       "        vertical-align: middle;\n",
       "    }\n",
       "\n",
       "    .dataframe tbody tr th {\n",
       "        vertical-align: top;\n",
       "    }\n",
       "\n",
       "    .dataframe thead th {\n",
       "        text-align: right;\n",
       "    }\n",
       "</style>\n",
       "<table border=\"1\" class=\"dataframe\">\n",
       "  <thead>\n",
       "    <tr style=\"text-align: right;\">\n",
       "      <th></th>\n",
       "      <th>Fecha</th>\n",
       "      <th>ID Empleado</th>\n",
       "      <th>ID Agente</th>\n",
       "      <th>Categoría</th>\n",
       "      <th>Tipo</th>\n",
       "      <th>Severidad</th>\n",
       "      <th>Prioridad</th>\n",
       "      <th>Días Resolución</th>\n",
       "      <th>Satisfacción</th>\n",
       "      <th>año</th>\n",
       "      <th>semestre</th>\n",
       "    </tr>\n",
       "    <tr>\n",
       "      <th>ID Ticket</th>\n",
       "      <th></th>\n",
       "      <th></th>\n",
       "      <th></th>\n",
       "      <th></th>\n",
       "      <th></th>\n",
       "      <th></th>\n",
       "      <th></th>\n",
       "      <th></th>\n",
       "      <th></th>\n",
       "      <th></th>\n",
       "      <th></th>\n",
       "    </tr>\n",
       "  </thead>\n",
       "  <tbody>\n",
       "    <tr>\n",
       "      <th>GDDEER-5743562837</th>\n",
       "      <td>2019-04-07</td>\n",
       "      <td>1833.0</td>\n",
       "      <td>48.0</td>\n",
       "      <td>Hardware</td>\n",
       "      <td>Problema</td>\n",
       "      <td>0 - Sin Clasificar</td>\n",
       "      <td>0 - Sin Asignar</td>\n",
       "      <td>7.0</td>\n",
       "      <td>5.0</td>\n",
       "      <td>2019</td>\n",
       "      <td>1er semestre</td>\n",
       "    </tr>\n",
       "  </tbody>\n",
       "</table>\n",
       "</div>"
      ],
      "text/plain": [
       "                       Fecha  ID Empleado  ID Agente Categoría      Tipo  \\\n",
       "ID Ticket                                                                  \n",
       "GDDEER-5743562837 2019-04-07       1833.0       48.0  Hardware  Problema   \n",
       "\n",
       "                            Severidad        Prioridad  Días Resolución  \\\n",
       "ID Ticket                                                                 \n",
       "GDDEER-5743562837  0 - Sin Clasificar  0 - Sin Asignar              7.0   \n",
       "\n",
       "                   Satisfacción   año      semestre  \n",
       "ID Ticket                                            \n",
       "GDDEER-5743562837           5.0  2019  1er semestre  "
      ]
     },
     "execution_count": 40,
     "metadata": {},
     "output_type": "execute_result"
    }
   ],
   "source": [
    "df_2019['año']=2019\n",
    "df_2019['semestre'] = np.select(condiciones19, valores)\n",
    "df_2019.head(1)"
   ]
  },
  {
   "cell_type": "code",
   "execution_count": 41,
   "metadata": {},
   "outputs": [],
   "source": [
    "df_2020 = pd.read_excel(\"datos/2020.xlsx\", index_col=0)"
   ]
  },
  {
   "cell_type": "code",
   "execution_count": 42,
   "metadata": {},
   "outputs": [],
   "source": [
    "df_2020['Fecha'] = pd.to_datetime(df_2020['Fecha'])\n",
    "condiciones20 = [df_2020['Fecha'].dt.month <= 6, df_2020['Fecha'].dt.month > 6]"
   ]
  },
  {
   "cell_type": "code",
   "execution_count": 43,
   "metadata": {},
   "outputs": [
    {
     "data": {
      "text/html": [
       "<div>\n",
       "<style scoped>\n",
       "    .dataframe tbody tr th:only-of-type {\n",
       "        vertical-align: middle;\n",
       "    }\n",
       "\n",
       "    .dataframe tbody tr th {\n",
       "        vertical-align: top;\n",
       "    }\n",
       "\n",
       "    .dataframe thead th {\n",
       "        text-align: right;\n",
       "    }\n",
       "</style>\n",
       "<table border=\"1\" class=\"dataframe\">\n",
       "  <thead>\n",
       "    <tr style=\"text-align: right;\">\n",
       "      <th></th>\n",
       "      <th>Fecha</th>\n",
       "      <th>Tipo</th>\n",
       "      <th>Categoría</th>\n",
       "      <th>ID Empleado</th>\n",
       "      <th>ID Agente</th>\n",
       "      <th>Severidad</th>\n",
       "      <th>Prioridad</th>\n",
       "      <th>Días Resolución</th>\n",
       "      <th>Satisfacción</th>\n",
       "      <th>año</th>\n",
       "      <th>semestre</th>\n",
       "    </tr>\n",
       "    <tr>\n",
       "      <th>ID Ticket</th>\n",
       "      <th></th>\n",
       "      <th></th>\n",
       "      <th></th>\n",
       "      <th></th>\n",
       "      <th></th>\n",
       "      <th></th>\n",
       "      <th></th>\n",
       "      <th></th>\n",
       "      <th></th>\n",
       "      <th></th>\n",
       "      <th></th>\n",
       "    </tr>\n",
       "  </thead>\n",
       "  <tbody>\n",
       "    <tr>\n",
       "      <th>GDDENR-6044135832</th>\n",
       "      <td>2020-10-31</td>\n",
       "      <td>Problema</td>\n",
       "      <td>Acceso/Login</td>\n",
       "      <td>773.0</td>\n",
       "      <td>48.0</td>\n",
       "      <td>0 - Sin Clasificar</td>\n",
       "      <td>0 - Sin Asignar</td>\n",
       "      <td>0.0</td>\n",
       "      <td>5.0</td>\n",
       "      <td>2020</td>\n",
       "      <td>2º semestre</td>\n",
       "    </tr>\n",
       "  </tbody>\n",
       "</table>\n",
       "</div>"
      ],
      "text/plain": [
       "                       Fecha      Tipo     Categoría  ID Empleado  ID Agente  \\\n",
       "ID Ticket                                                                      \n",
       "GDDENR-6044135832 2020-10-31  Problema  Acceso/Login        773.0       48.0   \n",
       "\n",
       "                            Severidad        Prioridad  Días Resolución  \\\n",
       "ID Ticket                                                                 \n",
       "GDDENR-6044135832  0 - Sin Clasificar  0 - Sin Asignar              0.0   \n",
       "\n",
       "                   Satisfacción   año     semestre  \n",
       "ID Ticket                                           \n",
       "GDDENR-6044135832           5.0  2020  2º semestre  "
      ]
     },
     "execution_count": 43,
     "metadata": {},
     "output_type": "execute_result"
    }
   ],
   "source": [
    "df_2020['año']=2020\n",
    "df_2020['semestre'] = np.select(condiciones20, valores)\n",
    "df_2020.head(1)"
   ]
  },
  {
   "attachments": {},
   "cell_type": "markdown",
   "metadata": {},
   "source": [
    "creo que se pueden unir por el id ticket"
   ]
  },
  {
   "attachments": {},
   "cell_type": "markdown",
   "metadata": {},
   "source": [
    "2. Chequead que los nombres de las columnas y ver si se llaman iguales entre dataframes. ¿Están todas en minúsculas? ¿Tienen espacios? En caso de que no sea así homogeneizar los nombres de las columnas para que todos los dataframes tengan el mismo formato."
   ]
  },
  {
   "attachments": {},
   "cell_type": "markdown",
   "metadata": {},
   "source": [
    "3. En este momento nos habremos dado cuenta que el DataFrame que generamos en el pair programming Pandas IV es similar al DataFrame de los datos históricos (2017.xlsx, 2018.xlsx, 2019.xlsx, 2020.xlsx). Si recordamos, eliminamos algunas columnas en la sesión III que no eran útiles, tendréis que ver si esas columnas están en los dataframes nuevos, si es así eliminarlas. Por lo tanto, realizad los cambios que creáis necesarios para que los dataframes sean iguales y luego juntadlos usando el mejor método."
   ]
  },
  {
   "attachments": {},
   "cell_type": "markdown",
   "metadata": {},
   "source": [
    "4. Es el momento de unir la información de todos los puestos y los empleados. Debatid que método es el más correcto para unir toda esta información y ejecutadlo."
   ]
  },
  {
   "cell_type": "code",
   "execution_count": 44,
   "metadata": {},
   "outputs": [
    {
     "data": {
      "text/html": [
       "<div>\n",
       "<style scoped>\n",
       "    .dataframe tbody tr th:only-of-type {\n",
       "        vertical-align: middle;\n",
       "    }\n",
       "\n",
       "    .dataframe tbody tr th {\n",
       "        vertical-align: top;\n",
       "    }\n",
       "\n",
       "    .dataframe thead th {\n",
       "        text-align: right;\n",
       "    }\n",
       "</style>\n",
       "<table border=\"1\" class=\"dataframe\">\n",
       "  <thead>\n",
       "    <tr style=\"text-align: right;\">\n",
       "      <th></th>\n",
       "      <th>ID Ticket</th>\n",
       "      <th>Fecha</th>\n",
       "      <th>ID Empleado</th>\n",
       "      <th>ID Agente</th>\n",
       "      <th>Categoría</th>\n",
       "      <th>Tipo</th>\n",
       "      <th>Severidad</th>\n",
       "      <th>Prioridad</th>\n",
       "      <th>Días Resolución</th>\n",
       "      <th>Satisfacción</th>\n",
       "      <th>semestre</th>\n",
       "      <th>año</th>\n",
       "    </tr>\n",
       "  </thead>\n",
       "  <tbody>\n",
       "    <tr>\n",
       "      <th>0</th>\n",
       "      <td>GDDENR-5042564453</td>\n",
       "      <td>2016-07-13</td>\n",
       "      <td>1735.0</td>\n",
       "      <td>4.0</td>\n",
       "      <td>Acceso&amp;%Login</td>\n",
       "      <td>Problema</td>\n",
       "      <td>0 - Sin Clasificar</td>\n",
       "      <td>0 - Sin Asignar</td>\n",
       "      <td>0.0</td>\n",
       "      <td>5.0</td>\n",
       "      <td>2º semestre</td>\n",
       "      <td>2016</td>\n",
       "    </tr>\n",
       "    <tr>\n",
       "      <th>1</th>\n",
       "      <td>GDDENR-8042508060</td>\n",
       "      <td>2016-05-18</td>\n",
       "      <td>1566.0</td>\n",
       "      <td>10.0</td>\n",
       "      <td>Acceso&amp;%Login</td>\n",
       "      <td>Problema</td>\n",
       "      <td>0 - Sin Clasificar</td>\n",
       "      <td>0 - Sin Asignar</td>\n",
       "      <td>0.0</td>\n",
       "      <td>5.0</td>\n",
       "      <td>1er semestre</td>\n",
       "      <td>2016</td>\n",
       "    </tr>\n",
       "    <tr>\n",
       "      <th>2</th>\n",
       "      <td>GDDESR-1342539995</td>\n",
       "      <td>2016-06-18</td>\n",
       "      <td>569.0</td>\n",
       "      <td>29.0</td>\n",
       "      <td>Sistema</td>\n",
       "      <td>Problema</td>\n",
       "      <td>0 - Sin Clasificar</td>\n",
       "      <td>0 - Sin Asignar</td>\n",
       "      <td>3.0</td>\n",
       "      <td>5.0</td>\n",
       "      <td>1er semestre</td>\n",
       "      <td>2016</td>\n",
       "    </tr>\n",
       "    <tr>\n",
       "      <th>3</th>\n",
       "      <td>GDDTSR-5942488006</td>\n",
       "      <td>2016-04-28</td>\n",
       "      <td>320.0</td>\n",
       "      <td>40.0</td>\n",
       "      <td>Sistema</td>\n",
       "      <td>Solicitud</td>\n",
       "      <td>0 - Sin Clasificar</td>\n",
       "      <td>0 - Sin Asignar</td>\n",
       "      <td>9.0</td>\n",
       "      <td>5.0</td>\n",
       "      <td>1er semestre</td>\n",
       "      <td>2016</td>\n",
       "    </tr>\n",
       "    <tr>\n",
       "      <th>4</th>\n",
       "      <td>GDLEER-0042524120</td>\n",
       "      <td>2016-06-03</td>\n",
       "      <td>1842.0</td>\n",
       "      <td>31.0</td>\n",
       "      <td>Software</td>\n",
       "      <td>Problema</td>\n",
       "      <td>2 - Normal</td>\n",
       "      <td>0 - Sin Asignar</td>\n",
       "      <td>0.0</td>\n",
       "      <td>5.0</td>\n",
       "      <td>1er semestre</td>\n",
       "      <td>2016</td>\n",
       "    </tr>\n",
       "  </tbody>\n",
       "</table>\n",
       "</div>"
      ],
      "text/plain": [
       "           ID Ticket       Fecha  ID Empleado  ID Agente      Categoría  \\\n",
       "0  GDDENR-5042564453  2016-07-13       1735.0        4.0  Acceso&%Login   \n",
       "1  GDDENR-8042508060  2016-05-18       1566.0       10.0  Acceso&%Login   \n",
       "2  GDDESR-1342539995  2016-06-18        569.0       29.0        Sistema   \n",
       "3  GDDTSR-5942488006  2016-04-28        320.0       40.0        Sistema   \n",
       "4  GDLEER-0042524120  2016-06-03       1842.0       31.0       Software   \n",
       "\n",
       "        Tipo           Severidad        Prioridad  Días Resolución  \\\n",
       "0   Problema  0 - Sin Clasificar  0 - Sin Asignar              0.0   \n",
       "1   Problema  0 - Sin Clasificar  0 - Sin Asignar              0.0   \n",
       "2   Problema  0 - Sin Clasificar  0 - Sin Asignar              3.0   \n",
       "3  Solicitud  0 - Sin Clasificar  0 - Sin Asignar              9.0   \n",
       "4   Problema          2 - Normal  0 - Sin Asignar              0.0   \n",
       "\n",
       "   Satisfacción      semestre   año  \n",
       "0           5.0   2º semestre  2016  \n",
       "1           5.0  1er semestre  2016  \n",
       "2           5.0  1er semestre  2016  \n",
       "3           5.0  1er semestre  2016  \n",
       "4           5.0  1er semestre  2016  "
      ]
     },
     "execution_count": 44,
     "metadata": {},
     "output_type": "execute_result"
    }
   ],
   "source": [
    "concatenado = pd.concat([df_2016, df_2017,df_2018, df_2019, df_2020], axis= 0, ignore_index=True)\n",
    "concatenado.head()"
   ]
  },
  {
   "cell_type": "code",
   "execution_count": 45,
   "metadata": {},
   "outputs": [
    {
     "data": {
      "text/plain": [
       "array([2016, 2017, 2018, 2019, 2020])"
      ]
     },
     "execution_count": 45,
     "metadata": {},
     "output_type": "execute_result"
    }
   ],
   "source": [
    "concatenado['año'].unique()"
   ]
  },
  {
   "cell_type": "code",
   "execution_count": 46,
   "metadata": {},
   "outputs": [
    {
     "data": {
      "text/html": [
       "<div>\n",
       "<style scoped>\n",
       "    .dataframe tbody tr th:only-of-type {\n",
       "        vertical-align: middle;\n",
       "    }\n",
       "\n",
       "    .dataframe tbody tr th {\n",
       "        vertical-align: top;\n",
       "    }\n",
       "\n",
       "    .dataframe thead th {\n",
       "        text-align: right;\n",
       "    }\n",
       "</style>\n",
       "<table border=\"1\" class=\"dataframe\">\n",
       "  <thead>\n",
       "    <tr style=\"text-align: right;\">\n",
       "      <th></th>\n",
       "      <th>ID Puesto</th>\n",
       "      <th>Puesto</th>\n",
       "      <th>Departamento</th>\n",
       "      <th>Tipo Puesto</th>\n",
       "    </tr>\n",
       "  </thead>\n",
       "  <tbody>\n",
       "    <tr>\n",
       "      <th>0</th>\n",
       "      <td>10-23200</td>\n",
       "      <td>Ingeniero de Materiales</td>\n",
       "      <td>MATERIALES</td>\n",
       "      <td>Operativo</td>\n",
       "    </tr>\n",
       "  </tbody>\n",
       "</table>\n",
       "</div>"
      ],
      "text/plain": [
       "  ID Puesto                   Puesto Departamento Tipo Puesto\n",
       "0  10-23200  Ingeniero de Materiales   MATERIALES   Operativo"
      ]
     },
     "execution_count": 46,
     "metadata": {},
     "output_type": "execute_result"
    }
   ],
   "source": [
    "df_puestos = pd.read_excel(\"datos/Puestos.xlsx\")\n",
    "df_puestos.head(1)"
   ]
  },
  {
   "cell_type": "code",
   "execution_count": 47,
   "metadata": {},
   "outputs": [
    {
     "data": {
      "text/html": [
       "<div>\n",
       "<style scoped>\n",
       "    .dataframe tbody tr th:only-of-type {\n",
       "        vertical-align: middle;\n",
       "    }\n",
       "\n",
       "    .dataframe tbody tr th {\n",
       "        vertical-align: top;\n",
       "    }\n",
       "\n",
       "    .dataframe thead th {\n",
       "        text-align: right;\n",
       "    }\n",
       "</style>\n",
       "<table border=\"1\" class=\"dataframe\">\n",
       "  <thead>\n",
       "    <tr style=\"text-align: right;\">\n",
       "      <th></th>\n",
       "      <th>Turno</th>\n",
       "      <th>ID Empleado</th>\n",
       "      <th>Apellido</th>\n",
       "      <th>Nombre</th>\n",
       "      <th>ID Puesto</th>\n",
       "      <th>Email</th>\n",
       "    </tr>\n",
       "  </thead>\n",
       "  <tbody>\n",
       "    <tr>\n",
       "      <th>0</th>\n",
       "      <td>A</td>\n",
       "      <td>6</td>\n",
       "      <td>VILLA</td>\n",
       "      <td>JESUS</td>\n",
       "      <td>50-32200</td>\n",
       "      <td>jesus.villa@tractchun.com</td>\n",
       "    </tr>\n",
       "  </tbody>\n",
       "</table>\n",
       "</div>"
      ],
      "text/plain": [
       "  Turno  ID Empleado Apellido Nombre ID Puesto                      Email\n",
       "0     A            6    VILLA  JESUS  50-32200  jesus.villa@tractchun.com"
      ]
     },
     "execution_count": 47,
     "metadata": {},
     "output_type": "execute_result"
    }
   ],
   "source": [
    "df_empleados = pd.read_csv(\"datos/Empleados2.csv\")\n",
    "df_empleados.head(1)"
   ]
  },
  {
   "cell_type": "code",
   "execution_count": 48,
   "metadata": {},
   "outputs": [
    {
     "data": {
      "text/html": [
       "<div>\n",
       "<style scoped>\n",
       "    .dataframe tbody tr th:only-of-type {\n",
       "        vertical-align: middle;\n",
       "    }\n",
       "\n",
       "    .dataframe tbody tr th {\n",
       "        vertical-align: top;\n",
       "    }\n",
       "\n",
       "    .dataframe thead th {\n",
       "        text-align: right;\n",
       "    }\n",
       "</style>\n",
       "<table border=\"1\" class=\"dataframe\">\n",
       "  <thead>\n",
       "    <tr style=\"text-align: right;\">\n",
       "      <th></th>\n",
       "      <th>ID Puesto</th>\n",
       "      <th>Puesto</th>\n",
       "      <th>Departamento</th>\n",
       "      <th>Tipo Puesto</th>\n",
       "      <th>Turno</th>\n",
       "      <th>ID Empleado</th>\n",
       "      <th>Apellido</th>\n",
       "      <th>Nombre</th>\n",
       "      <th>Email</th>\n",
       "    </tr>\n",
       "  </thead>\n",
       "  <tbody>\n",
       "    <tr>\n",
       "      <th>0</th>\n",
       "      <td>10-23200</td>\n",
       "      <td>Ingeniero de Materiales</td>\n",
       "      <td>MATERIALES</td>\n",
       "      <td>Operativo</td>\n",
       "      <td>NaN</td>\n",
       "      <td>725</td>\n",
       "      <td>Villa</td>\n",
       "      <td>Eliana</td>\n",
       "      <td>eliana .villa@tractchun.com</td>\n",
       "    </tr>\n",
       "    <tr>\n",
       "      <th>1</th>\n",
       "      <td>10-23200</td>\n",
       "      <td>Ingeniero de Materiales</td>\n",
       "      <td>MATERIALES</td>\n",
       "      <td>Operativo</td>\n",
       "      <td>NaN</td>\n",
       "      <td>747</td>\n",
       "      <td>CHAVEZ</td>\n",
       "      <td>FEDERICO</td>\n",
       "      <td>federico.chavez@tractchun.com</td>\n",
       "    </tr>\n",
       "    <tr>\n",
       "      <th>2</th>\n",
       "      <td>10-23200</td>\n",
       "      <td>Ingeniero de Materiales</td>\n",
       "      <td>MATERIALES</td>\n",
       "      <td>Operativo</td>\n",
       "      <td>NaN</td>\n",
       "      <td>544</td>\n",
       "      <td>FIGUEROA</td>\n",
       "      <td>ANGEL</td>\n",
       "      <td>angel.figueroa@tractchun.com</td>\n",
       "    </tr>\n",
       "    <tr>\n",
       "      <th>3</th>\n",
       "      <td>10-24111</td>\n",
       "      <td>Operador de Producción</td>\n",
       "      <td>MATERIALES</td>\n",
       "      <td>Operativo</td>\n",
       "      <td>NaN</td>\n",
       "      <td>1376</td>\n",
       "      <td>Piedrahita</td>\n",
       "      <td>Gonzalo</td>\n",
       "      <td>gonzalo.piedrahita@tractchun.com</td>\n",
       "    </tr>\n",
       "    <tr>\n",
       "      <th>4</th>\n",
       "      <td>10-24111</td>\n",
       "      <td>Operador de Producción</td>\n",
       "      <td>MATERIALES</td>\n",
       "      <td>Operativo</td>\n",
       "      <td>NaN</td>\n",
       "      <td>44</td>\n",
       "      <td>González</td>\n",
       "      <td>Gonzalo</td>\n",
       "      <td>gonzalo.gonzález@tractchun.com</td>\n",
       "    </tr>\n",
       "  </tbody>\n",
       "</table>\n",
       "</div>"
      ],
      "text/plain": [
       "  ID Puesto                   Puesto Departamento Tipo Puesto Turno  \\\n",
       "0  10-23200  Ingeniero de Materiales   MATERIALES   Operativo   NaN   \n",
       "1  10-23200  Ingeniero de Materiales   MATERIALES   Operativo   NaN   \n",
       "2  10-23200  Ingeniero de Materiales   MATERIALES   Operativo   NaN   \n",
       "3  10-24111   Operador de Producción   MATERIALES   Operativo   NaN   \n",
       "4  10-24111   Operador de Producción   MATERIALES   Operativo   NaN   \n",
       "\n",
       "   ID Empleado    Apellido    Nombre                             Email  \n",
       "0          725       Villa   Eliana        eliana .villa@tractchun.com  \n",
       "1          747      CHAVEZ  FEDERICO     federico.chavez@tractchun.com  \n",
       "2          544    FIGUEROA     ANGEL      angel.figueroa@tractchun.com  \n",
       "3         1376  Piedrahita   Gonzalo  gonzalo.piedrahita@tractchun.com  \n",
       "4           44    González   Gonzalo    gonzalo.gonzález@tractchun.com  "
      ]
     },
     "execution_count": 48,
     "metadata": {},
     "output_type": "execute_result"
    }
   ],
   "source": [
    "mergeado = df_puestos.merge(df_empleados, how= 'inner', on='ID Puesto')\n",
    "mergeado.head()"
   ]
  },
  {
   "cell_type": "code",
   "execution_count": null,
   "metadata": {},
   "outputs": [],
   "source": []
  },
  {
   "attachments": {},
   "cell_type": "markdown",
   "metadata": {},
   "source": [
    "5. Guardad los dataframes en dos csv diferentes que usaremos mañana en la clase de pair programming"
   ]
  },
  {
   "cell_type": "code",
   "execution_count": 49,
   "metadata": {},
   "outputs": [],
   "source": [
    "concatenado.to_csv(\"datos/concatenado.csv\")"
   ]
  },
  {
   "cell_type": "code",
   "execution_count": 50,
   "metadata": {},
   "outputs": [],
   "source": [
    "mergeado.to_csv('datos/mergeado.csv')"
   ]
  }
 ],
 "metadata": {
  "kernelspec": {
   "display_name": "base",
   "language": "python",
   "name": "python3"
  },
  "language_info": {
   "codemirror_mode": {
    "name": "ipython",
    "version": 3
   },
   "file_extension": ".py",
   "mimetype": "text/x-python",
   "name": "python",
   "nbconvert_exporter": "python",
   "pygments_lexer": "ipython3",
   "version": "3.9.7"
  },
  "orig_nbformat": 4
 },
 "nbformat": 4,
 "nbformat_minor": 2
}
