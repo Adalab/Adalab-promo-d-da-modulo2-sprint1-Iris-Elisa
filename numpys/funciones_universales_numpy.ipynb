{
 "cells": [
  {
   "cell_type": "code",
   "execution_count": 1,
   "metadata": {},
   "outputs": [],
   "source": [
    "import numpy as np"
   ]
  },
  {
   "attachments": {},
   "cell_type": "markdown",
   "metadata": {},
   "source": [
    "1.Cread un array de tres dimensiones de 2 matrices, 3 filas y 5 columnas cuyos valores solo tengan 1 decimales. Sobre el array creado anteriormente, extraed:"
   ]
  },
  {
   "cell_type": "code",
   "execution_count": 2,
   "metadata": {},
   "outputs": [
    {
     "data": {
      "text/plain": [
       "array([[[0.54473863, 0.58016151, 0.25234293, 0.7538863 , 0.2197032 ],\n",
       "        [0.80236181, 0.95455106, 0.56354841, 0.07334469, 0.35812956],\n",
       "        [0.02141926, 0.65501719, 0.2824734 , 0.05621291, 0.94888565]],\n",
       "\n",
       "       [[0.63644622, 0.65657567, 0.9341728 , 0.47071886, 0.98752304],\n",
       "        [0.0171308 , 0.9240374 , 0.23393196, 0.88590188, 0.66989287],\n",
       "        [0.41172385, 0.84234367, 0.73537493, 0.22472582, 0.98668478]]])"
      ]
     },
     "execution_count": 2,
     "metadata": {},
     "output_type": "execute_result"
    }
   ],
   "source": [
    "array1 = np.random.rand(2, 3, 5)\n",
    "array1"
   ]
  },
  {
   "cell_type": "code",
   "execution_count": 3,
   "metadata": {},
   "outputs": [
    {
     "data": {
      "text/plain": [
       "array([[[0.5, 0.6, 0.3, 0.8, 0.2],\n",
       "        [0.8, 1. , 0.6, 0.1, 0.4],\n",
       "        [0. , 0.7, 0.3, 0.1, 0.9]],\n",
       "\n",
       "       [[0.6, 0.7, 0.9, 0.5, 1. ],\n",
       "        [0. , 0.9, 0.2, 0.9, 0.7],\n",
       "        [0.4, 0.8, 0.7, 0.2, 1. ]]])"
      ]
     },
     "execution_count": 3,
     "metadata": {},
     "output_type": "execute_result"
    }
   ],
   "source": [
    "array11 = np.round(array1, 1)\n",
    "array11"
   ]
  },
  {
   "attachments": {},
   "cell_type": "markdown",
   "metadata": {},
   "source": [
    "- Calculad la media del array y almacenarlos en una variable. Redondead a un decimal."
   ]
  },
  {
   "cell_type": "code",
   "execution_count": 4,
   "metadata": {},
   "outputs": [
    {
     "data": {
      "text/plain": [
       "0.5599999999999999"
      ]
     },
     "execution_count": 4,
     "metadata": {},
     "output_type": "execute_result"
    }
   ],
   "source": [
    "media_array = np.mean(array11)\n",
    "media_array"
   ]
  },
  {
   "cell_type": "code",
   "execution_count": 5,
   "metadata": {},
   "outputs": [],
   "source": [
    "media_array1 = np.round(media_array, 1)"
   ]
  },
  {
   "attachments": {},
   "cell_type": "markdown",
   "metadata": {},
   "source": [
    "- Calculad el valor máximo del array y almacenarlos en una variable. Redondead a un decimal."
   ]
  },
  {
   "cell_type": "code",
   "execution_count": 6,
   "metadata": {},
   "outputs": [],
   "source": [
    "maxi = np.max(array11)"
   ]
  },
  {
   "attachments": {},
   "cell_type": "markdown",
   "metadata": {},
   "source": [
    "- Calculad el valor mínimo del array y almacenarlos en una variable. Redondead a un decimal."
   ]
  },
  {
   "cell_type": "code",
   "execution_count": 7,
   "metadata": {},
   "outputs": [],
   "source": [
    "mini = np.min(array11)"
   ]
  },
  {
   "attachments": {},
   "cell_type": "markdown",
   "metadata": {},
   "source": [
    "- Cread un array vacío con la misma forma y dimensiones que el array creado anteriormente.\n",
    "Vamos a reemplazar los valores de la matriz vacía que nos acabamos de crear pero basándonos en los valores del primer array bajo las siguientes condiciones:"
   ]
  },
  {
   "cell_type": "code",
   "execution_count": 8,
   "metadata": {},
   "outputs": [
    {
     "data": {
      "text/plain": [
       "array([[['', '', '', '', ''],\n",
       "        ['', '', '', '', ''],\n",
       "        ['', '', '', '', '']],\n",
       "\n",
       "       [['', '', '', '', ''],\n",
       "        ['', '', '', '', ''],\n",
       "        ['', '', '', '', '']]], dtype='<U1')"
      ]
     },
     "execution_count": 8,
     "metadata": {},
     "output_type": "execute_result"
    }
   ],
   "source": [
    "array_vacio = np.empty_like(array11, dtype = str) #para poder introducir strings al array, le decimos que sea tipo str\n",
    "array_vacio"
   ]
  },
  {
   "attachments": {},
   "cell_type": "markdown",
   "metadata": {},
   "source": [
    "TIP: tendréis que hacer unos cuantos bucles for y jugar con los indices de los arrays!"
   ]
  },
  {
   "attachments": {},
   "cell_type": "markdown",
   "metadata": {},
   "source": [
    "Si el valor del array es igual que la media, se reemplaza por \"A\"."
   ]
  },
  {
   "attachments": {},
   "cell_type": "markdown",
   "metadata": {},
   "source": [
    "Si el valor del array es mayor que la media, se reemplaza por \"B\"."
   ]
  },
  {
   "attachments": {},
   "cell_type": "markdown",
   "metadata": {},
   "source": [
    "Si el valor del array es menor que la media, se reemplaza por \"C\"."
   ]
  },
  {
   "attachments": {},
   "cell_type": "markdown",
   "metadata": {},
   "source": [
    "Si el valor es igual que el máximo, se reemplaza por \"D\"."
   ]
  },
  {
   "attachments": {},
   "cell_type": "markdown",
   "metadata": {},
   "source": [
    "Si el valor es igual que el mínimo, se reemplaza por \"E\"."
   ]
  },
  {
   "attachments": {},
   "cell_type": "markdown",
   "metadata": {},
   "source": [
    "💡 Pista 💡 Tendréis que iterar por el array y cambiar los valores de la matriz vacía. Para eso tendremos que usar distintos condicionales."
   ]
  },
  {
   "cell_type": "code",
   "execution_count": 9,
   "metadata": {},
   "outputs": [
    {
     "data": {
      "text/plain": [
       "0.6"
      ]
     },
     "execution_count": 9,
     "metadata": {},
     "output_type": "execute_result"
    }
   ],
   "source": [
    "media_array1"
   ]
  },
  {
   "cell_type": "code",
   "execution_count": 17,
   "metadata": {},
   "outputs": [],
   "source": [
    "for i in range(0, array11.shape[0]):\n",
    "    for y in range(0, array11.shape[1]):\n",
    "        for x in range(0, array11.shape[2]):\n",
    "            if array11[i][y][x] == media_array1:\n",
    "                array_vacio[i][y][x] = 'A'\n",
    "            elif array11[i][y][x] == maxi:\n",
    "                array_vacio[i][y][x] == 'D'\n",
    "            elif array11[i][y][x] == mini:\n",
    "                array_vacio[i][y][x] = 'E'\n",
    "            elif array11[i][y][x] > media_array1:\n",
    "                array_vacio[i][y][x] = 'B'\n",
    "            elif array11[i][y][x] < media_array1:\n",
    "                array_vacio[i][y][x] = 'C'"
   ]
  },
  {
   "cell_type": "code",
   "execution_count": 18,
   "metadata": {},
   "outputs": [
    {
     "data": {
      "text/plain": [
       "array([[['C', 'A', 'C', 'B', 'C'],\n",
       "        ['B', 'B', 'A', 'C', 'C'],\n",
       "        ['E', 'B', 'C', 'C', 'B']],\n",
       "\n",
       "       [['A', 'B', 'B', 'C', 'B'],\n",
       "        ['E', 'B', 'C', 'B', 'B'],\n",
       "        ['C', 'B', 'B', 'C', 'B']]], dtype='<U1')"
      ]
     },
     "execution_count": 18,
     "metadata": {},
     "output_type": "execute_result"
    }
   ],
   "source": [
    "array_vacio"
   ]
  },
  {
   "attachments": {},
   "cell_type": "markdown",
   "metadata": {},
   "source": [
    "6. Estupendo, tenemos un array con strings. Ahora realizaremos un ejercicio similar al anterior, pero en este caso nos crearemos un array vacío unidimensional de 30 elementos. Al final de este ejercicio acabaremos teniendo un array de tres dimensiones con la misma forma que el primero que nos creamos.\n"
   ]
  },
  {
   "attachments": {},
   "cell_type": "markdown",
   "metadata": {},
   "source": [
    "- Si el valor del array creado en el ejercicio anterior es \"A\" o \"B\" lo reemplazaremos por 1"
   ]
  },
  {
   "attachments": {},
   "cell_type": "markdown",
   "metadata": {},
   "source": [
    "- Si el valor del array creado en el ejercicio anterior es \"C\" o \"D\" lo reemplazaremos por 2"
   ]
  },
  {
   "attachments": {},
   "cell_type": "markdown",
   "metadata": {},
   "source": [
    "- Si el valor del array creado en el ejercicio anterior es \"E\" lo reemplazaremos por 3."
   ]
  },
  {
   "cell_type": "code",
   "execution_count": 62,
   "metadata": {},
   "outputs": [
    {
     "data": {
      "text/plain": [
       "array([                  0, 4607182418800017408,                   0,\n",
       "       4607182418800017408, 4607182418800017408,                   0,\n",
       "                         0, 4607182418800017408,                   0,\n",
       "                         0, 4607182418800017408, 4607182418800017408,\n",
       "       4607182418800017408, 4607182418800017408,                   0,\n",
       "                         0,                   0,                   0,\n",
       "                         0, 4607182418800017408, 4607182418800017408,\n",
       "       4607182418800017408,                   0, 4607182418800017408,\n",
       "                         0,                   0,                   0,\n",
       "                         0, 4607182418800017408,                   0])"
      ]
     },
     "execution_count": 62,
     "metadata": {},
     "output_type": "execute_result"
    }
   ],
   "source": [
    "uni_vacio = np.empty(30, dtype=int) #como vamos a introducir integers tenemos que asegurarnos de que sean integers\n",
    "uni_vacio"
   ]
  },
  {
   "cell_type": "code",
   "execution_count": 71,
   "metadata": {},
   "outputs": [
    {
     "data": {
      "text/plain": [
       "array([[['C', 'A', 'C', 'B', 'C', 'B', 'B', 'A', 'C', 'C', 'E', 'B',\n",
       "         'C', 'C', 'B', 'A', 'B', 'B', 'C', 'B', 'E', 'B', 'C', 'B',\n",
       "         'B', 'C', 'B', 'B', 'C', 'B']]], dtype='<U1')"
      ]
     },
     "execution_count": 71,
     "metadata": {},
     "output_type": "execute_result"
    }
   ],
   "source": [
    "array_vacio1 = array_vacio.reshape(1,1,30) #para poder compararlos en el bucle, tenemos que dejar a ambos en la misma dimensión\n",
    "array_vacio1"
   ]
  },
  {
   "cell_type": "code",
   "execution_count": 73,
   "metadata": {},
   "outputs": [],
   "source": [
    "for i in range(0, array_vacio1.shape[0]):\n",
    "    for y in range(0, array_vacio1.shape[1]):\n",
    "        for x in range(0, array_vacio1.shape[2]):\n",
    "            if array_vacio1[i][y][x] == \"A\" or array_vacio1[i][y][x] == \"B\":\n",
    "                uni_vacio[x] = 1\n",
    "            elif array_vacio1[i][y][x] == \"C\" or array_vacio1[i][y][x] == \"D\":\n",
    "                uni_vacio[x] = 2\n",
    "            elif array_vacio1[i][y][x] == \"E\":\n",
    "                uni_vacio[x] = 3"
   ]
  },
  {
   "cell_type": "code",
   "execution_count": 74,
   "metadata": {},
   "outputs": [
    {
     "data": {
      "text/plain": [
       "array([2, 1, 2, 1, 2, 1, 1, 1, 2, 2, 3, 1, 2, 2, 1, 1, 1, 1, 2, 1, 3, 1,\n",
       "       2, 1, 1, 2, 1, 1, 2, 1])"
      ]
     },
     "execution_count": 74,
     "metadata": {},
     "output_type": "execute_result"
    }
   ],
   "source": [
    "uni_vacio"
   ]
  },
  {
   "attachments": {},
   "cell_type": "markdown",
   "metadata": {},
   "source": [
    "Una vez que hayas reemplazado todos los valores cambiad la forma del array para que sea de tres dimensiones, con 2 matrices, 3 filas y 5 columnas."
   ]
  },
  {
   "cell_type": "code",
   "execution_count": 75,
   "metadata": {},
   "outputs": [
    {
     "data": {
      "text/plain": [
       "array([[[2, 1, 2, 1, 2],\n",
       "        [1, 1, 1, 2, 2],\n",
       "        [3, 1, 2, 2, 1]],\n",
       "\n",
       "       [[1, 1, 1, 2, 1],\n",
       "        [3, 1, 2, 1, 1],\n",
       "        [2, 1, 1, 2, 1]]])"
      ]
     },
     "execution_count": 75,
     "metadata": {},
     "output_type": "execute_result"
    }
   ],
   "source": [
    "uni_vacio1 = uni_vacio.reshape (2,3,5)\n",
    "uni_vacio1"
   ]
  }
 ],
 "metadata": {
  "kernelspec": {
   "display_name": "base",
   "language": "python",
   "name": "python3"
  },
  "language_info": {
   "codemirror_mode": {
    "name": "ipython",
    "version": 3
   },
   "file_extension": ".py",
   "mimetype": "text/x-python",
   "name": "python",
   "nbconvert_exporter": "python",
   "pygments_lexer": "ipython3",
   "version": "3.9.7"
  },
  "orig_nbformat": 4,
  "vscode": {
   "interpreter": {
    "hash": "61a57a4b5406d2de388e2f91097d4e4bcd7d5f4a46f53a795aa28a02eed27fc5"
   }
  }
 },
 "nbformat": 4,
 "nbformat_minor": 2
}
