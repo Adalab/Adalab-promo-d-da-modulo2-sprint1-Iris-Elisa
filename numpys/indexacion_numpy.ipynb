{
 "cells": [
  {
   "cell_type": "code",
   "execution_count": 31,
   "metadata": {},
   "outputs": [],
   "source": [
    "import numpy as np"
   ]
  },
  {
   "attachments": {},
   "cell_type": "markdown",
   "metadata": {},
   "source": [
    "1. Cread un array de dos dimensiones de 5 filas y 3 columnas. Sobre el array creado anteriormente, extraed:"
   ]
  },
  {
   "cell_type": "code",
   "execution_count": 32,
   "metadata": {},
   "outputs": [
    {
     "data": {
      "text/plain": [
       "array([[0.51790809, 0.00453549, 0.94006433],\n",
       "       [0.3756266 , 0.69320583, 0.95977917],\n",
       "       [0.33662172, 0.66418294, 0.37135738],\n",
       "       [0.30524659, 0.03886508, 0.63767087],\n",
       "       [0.25673922, 0.78670592, 0.69094567]])"
      ]
     },
     "execution_count": 32,
     "metadata": {},
     "output_type": "execute_result"
    }
   ],
   "source": [
    "array1 = np.random.rand(5,3)\n",
    "array1"
   ]
  },
  {
   "cell_type": "code",
   "execution_count": 33,
   "metadata": {},
   "outputs": [
    {
     "data": {
      "text/plain": [
       "2"
      ]
     },
     "execution_count": 33,
     "metadata": {},
     "output_type": "execute_result"
    }
   ],
   "source": [
    "array1.ndim"
   ]
  },
  {
   "attachments": {},
   "cell_type": "markdown",
   "metadata": {},
   "source": [
    "- El valor de la primera fila y la segunda columna."
   ]
  },
  {
   "cell_type": "code",
   "execution_count": 34,
   "metadata": {},
   "outputs": [
    {
     "data": {
      "text/plain": [
       "0.004535490286907029"
      ]
     },
     "execution_count": 34,
     "metadata": {},
     "output_type": "execute_result"
    }
   ],
   "source": [
    "array1[0,1]"
   ]
  },
  {
   "attachments": {},
   "cell_type": "markdown",
   "metadata": {},
   "source": [
    "- Los valores de la segunda fila y las dos primeras columnas."
   ]
  },
  {
   "cell_type": "code",
   "execution_count": 35,
   "metadata": {},
   "outputs": [
    {
     "data": {
      "text/plain": [
       "array([0.3756266 , 0.69320583])"
      ]
     },
     "execution_count": 35,
     "metadata": {},
     "output_type": "execute_result"
    }
   ],
   "source": [
    "array1[1, :2]"
   ]
  },
  {
   "attachments": {},
   "cell_type": "markdown",
   "metadata": {},
   "source": [
    "- Extraed las filas pares (incluyendo la 0) y todas las columnas."
   ]
  },
  {
   "cell_type": "code",
   "execution_count": 36,
   "metadata": {},
   "outputs": [
    {
     "data": {
      "text/plain": [
       "array([[0.51790809, 0.00453549, 0.94006433],\n",
       "       [0.3756266 , 0.69320583, 0.95977917],\n",
       "       [0.33662172, 0.66418294, 0.37135738],\n",
       "       [0.30524659, 0.03886508, 0.63767087],\n",
       "       [0.25673922, 0.78670592, 0.69094567]])"
      ]
     },
     "execution_count": 36,
     "metadata": {},
     "output_type": "execute_result"
    }
   ],
   "source": [
    "array1"
   ]
  },
  {
   "cell_type": "code",
   "execution_count": 37,
   "metadata": {},
   "outputs": [
    {
     "data": {
      "text/plain": [
       "array([[0.51790809, 0.00453549, 0.94006433],\n",
       "       [0.33662172, 0.66418294, 0.37135738],\n",
       "       [0.25673922, 0.78670592, 0.69094567]])"
      ]
     },
     "execution_count": 37,
     "metadata": {},
     "output_type": "execute_result"
    }
   ],
   "source": [
    "array1[::2, :]"
   ]
  },
  {
   "attachments": {},
   "cell_type": "markdown",
   "metadata": {},
   "source": [
    "- Extraed los valores que sean mayores que 0.5."
   ]
  },
  {
   "cell_type": "code",
   "execution_count": 38,
   "metadata": {},
   "outputs": [
    {
     "data": {
      "text/plain": [
       "array([0.51790809, 0.94006433, 0.69320583, 0.95977917, 0.66418294,\n",
       "       0.63767087, 0.78670592, 0.69094567])"
      ]
     },
     "execution_count": 38,
     "metadata": {},
     "output_type": "execute_result"
    }
   ],
   "source": [
    "array1[(array1 > 0.5)]"
   ]
  },
  {
   "attachments": {},
   "cell_type": "markdown",
   "metadata": {},
   "source": [
    "- Extraed los valores menores que 0.2 o mayores que 0.5"
   ]
  },
  {
   "cell_type": "code",
   "execution_count": 39,
   "metadata": {},
   "outputs": [
    {
     "data": {
      "text/plain": [
       "array([0.51790809, 0.00453549, 0.94006433, 0.69320583, 0.95977917,\n",
       "       0.66418294, 0.03886508, 0.63767087, 0.78670592, 0.69094567])"
      ]
     },
     "execution_count": 39,
     "metadata": {},
     "output_type": "execute_result"
    }
   ],
   "source": [
    "array1[(array1 > 0.5) | (array1 < 0.2)]"
   ]
  },
  {
   "attachments": {},
   "cell_type": "markdown",
   "metadata": {},
   "source": [
    "2. Cread dos array de tres dimensiones:"
   ]
  },
  {
   "attachments": {},
   "cell_type": "markdown",
   "metadata": {},
   "source": [
    "- El primero de 2 matrices, 5 filas y 3 columnas."
   ]
  },
  {
   "cell_type": "code",
   "execution_count": 40,
   "metadata": {},
   "outputs": [
    {
     "data": {
      "text/plain": [
       "array([[[38, 84, 98],\n",
       "        [27, 14, 11],\n",
       "        [59, 25, 71],\n",
       "        [14, 61, 97],\n",
       "        [57, 30, 75]],\n",
       "\n",
       "       [[65, 75,  0],\n",
       "        [28, 74, 82],\n",
       "        [15, 86, 66],\n",
       "        [40,  9, 32],\n",
       "        [ 9, 13, 29]]])"
      ]
     },
     "execution_count": 40,
     "metadata": {},
     "output_type": "execute_result"
    }
   ],
   "source": [
    "array2 = np.random.randint(0,100,(2,5,3))\n",
    "array2"
   ]
  },
  {
   "attachments": {},
   "cell_type": "markdown",
   "metadata": {},
   "source": [
    "- El segundo de 3 matrices, 2 filas y 5 columnas"
   ]
  },
  {
   "cell_type": "code",
   "execution_count": 41,
   "metadata": {},
   "outputs": [
    {
     "data": {
      "text/plain": [
       "array([[[19, 14, 99, 58, 37],\n",
       "        [ 0, 64, 95, 33, 81]],\n",
       "\n",
       "       [[91, 45, 33, 83, 85],\n",
       "        [32, 33, 96, 21, 92]],\n",
       "\n",
       "       [[88, 47, 87,  1, 87],\n",
       "        [23, 13, 27, 68, 79]]])"
      ]
     },
     "execution_count": 41,
     "metadata": {},
     "output_type": "execute_result"
    }
   ],
   "source": [
    "array3 = np.random.randint(0,100,(3,2,5))\n",
    "array3"
   ]
  },
  {
   "attachments": {},
   "cell_type": "markdown",
   "metadata": {},
   "source": [
    "- Haced un análisis exploratorio de los array creados. Recordad que en el ejercicio de ayer nos creamos una función para esto."
   ]
  },
  {
   "cell_type": "code",
   "execution_count": 42,
   "metadata": {},
   "outputs": [],
   "source": [
    "def consulta_arrays(array):\n",
    "\n",
    "    print('Este es el shape', array.shape)\n",
    "    print('Este es el size', array.size)\n",
    "    print('Este es el ndim', array.ndim)\n",
    "    print('ESte es el dtype', array.dtype)"
   ]
  },
  {
   "cell_type": "code",
   "execution_count": 43,
   "metadata": {},
   "outputs": [
    {
     "name": "stdout",
     "output_type": "stream",
     "text": [
      "Este es el shape (2, 5, 3)\n",
      "Este es el size 30\n",
      "Este es el ndim 3\n",
      "ESte es el dtype int64\n"
     ]
    }
   ],
   "source": [
    "consulta_arrays(array2)"
   ]
  },
  {
   "cell_type": "code",
   "execution_count": 44,
   "metadata": {},
   "outputs": [
    {
     "name": "stdout",
     "output_type": "stream",
     "text": [
      "Este es el shape (3, 2, 5)\n",
      "Este es el size 30\n",
      "Este es el ndim 3\n",
      "ESte es el dtype int64\n"
     ]
    }
   ],
   "source": [
    "consulta_arrays(array3)"
   ]
  },
  {
   "attachments": {},
   "cell_type": "markdown",
   "metadata": {},
   "source": [
    "- Sumad los dos arrays. ¿Podéis? ¿Por qué?"
   ]
  },
  {
   "cell_type": "code",
   "execution_count": 46,
   "metadata": {},
   "outputs": [
    {
     "ename": "ValueError",
     "evalue": "operands could not be broadcast together with shapes (2,5,3) (3,2,5) ",
     "output_type": "error",
     "traceback": [
      "\u001b[0;31m---------------------------------------------------------------------------\u001b[0m",
      "\u001b[0;31mValueError\u001b[0m                                Traceback (most recent call last)",
      "\u001b[0;32m/tmp/ipykernel_9244/2034383425.py\u001b[0m in \u001b[0;36m<module>\u001b[0;34m\u001b[0m\n\u001b[0;32m----> 1\u001b[0;31m \u001b[0msumarrays\u001b[0m \u001b[0;34m=\u001b[0m \u001b[0mnp\u001b[0m\u001b[0;34m.\u001b[0m\u001b[0madd\u001b[0m\u001b[0;34m(\u001b[0m\u001b[0marray2\u001b[0m\u001b[0;34m,\u001b[0m \u001b[0marray3\u001b[0m\u001b[0;34m)\u001b[0m\u001b[0;34m\u001b[0m\u001b[0;34m\u001b[0m\u001b[0m\n\u001b[0m\u001b[1;32m      2\u001b[0m \u001b[0msumarrays\u001b[0m \u001b[0;31m#No se puede sumar porque tienen diferente shape o forma\u001b[0m\u001b[0;34m\u001b[0m\u001b[0;34m\u001b[0m\u001b[0m\n",
      "\u001b[0;31mValueError\u001b[0m: operands could not be broadcast together with shapes (2,5,3) (3,2,5) "
     ]
    }
   ],
   "source": [
    "sumarrays = np.add(array2, array3)\n",
    "sumarrays #No se puede sumar porque tienen diferente shape o forma"
   ]
  },
  {
   "attachments": {},
   "cell_type": "markdown",
   "metadata": {},
   "source": [
    "- Para cambiar la forma de un array y poder hacer operaciones entre arrays que tienen distintas formas hemos aprendido dos métodos:"
   ]
  },
  {
   "attachments": {},
   "cell_type": "markdown",
   "metadata": {},
   "source": [
    "- .reshape()"
   ]
  },
  {
   "attachments": {},
   "cell_type": "markdown",
   "metadata": {},
   "source": [
    "- .transpose()"
   ]
  },
  {
   "attachments": {},
   "cell_type": "markdown",
   "metadata": {},
   "source": [
    "Utiliza estas dos funciones para cambiar la forma de los array y hacer operaciones entre ellos."
   ]
  },
  {
   "attachments": {},
   "cell_type": "markdown",
   "metadata": {},
   "source": [
    ".reshape()"
   ]
  },
  {
   "cell_type": "code",
   "execution_count": 47,
   "metadata": {},
   "outputs": [
    {
     "data": {
      "text/plain": [
       "array([[[19, 14, 99],\n",
       "        [58, 37,  0],\n",
       "        [64, 95, 33],\n",
       "        [81, 91, 45],\n",
       "        [33, 83, 85]],\n",
       "\n",
       "       [[32, 33, 96],\n",
       "        [21, 92, 88],\n",
       "        [47, 87,  1],\n",
       "        [87, 23, 13],\n",
       "        [27, 68, 79]]])"
      ]
     },
     "execution_count": 47,
     "metadata": {},
     "output_type": "execute_result"
    }
   ],
   "source": [
    "array_cambiado = np.reshape(array3, (2,5,3))\n",
    "array_cambiado #es array3 con la forma adecuada para operar junto a array2"
   ]
  },
  {
   "cell_type": "code",
   "execution_count": 48,
   "metadata": {},
   "outputs": [
    {
     "data": {
      "text/plain": [
       "array([[[ 57,  98, 197],\n",
       "        [ 85,  51,  11],\n",
       "        [123, 120, 104],\n",
       "        [ 95, 152, 142],\n",
       "        [ 90, 113, 160]],\n",
       "\n",
       "       [[ 97, 108,  96],\n",
       "        [ 49, 166, 170],\n",
       "        [ 62, 173,  67],\n",
       "        [127,  32,  45],\n",
       "        [ 36,  81, 108]]])"
      ]
     },
     "execution_count": 48,
     "metadata": {},
     "output_type": "execute_result"
    }
   ],
   "source": [
    "np.add(array_cambiado, array2) #Se puede operar con ellos "
   ]
  },
  {
   "attachments": {},
   "cell_type": "markdown",
   "metadata": {},
   "source": [
    ".transpose()"
   ]
  },
  {
   "cell_type": "code",
   "execution_count": 50,
   "metadata": {},
   "outputs": [
    {
     "data": {
      "text/plain": [
       "array([[[38, 84, 98],\n",
       "        [27, 14, 11],\n",
       "        [59, 25, 71],\n",
       "        [14, 61, 97],\n",
       "        [57, 30, 75]],\n",
       "\n",
       "       [[65, 75,  0],\n",
       "        [28, 74, 82],\n",
       "        [15, 86, 66],\n",
       "        [40,  9, 32],\n",
       "        [ 9, 13, 29]]])"
      ]
     },
     "execution_count": 50,
     "metadata": {},
     "output_type": "execute_result"
    }
   ],
   "source": [
    "array2"
   ]
  },
  {
   "cell_type": "code",
   "execution_count": 51,
   "metadata": {},
   "outputs": [
    {
     "data": {
      "text/plain": [
       "array([[[19, 14, 99, 58, 37],\n",
       "        [ 0, 64, 95, 33, 81]],\n",
       "\n",
       "       [[91, 45, 33, 83, 85],\n",
       "        [32, 33, 96, 21, 92]],\n",
       "\n",
       "       [[88, 47, 87,  1, 87],\n",
       "        [23, 13, 27, 68, 79]]])"
      ]
     },
     "execution_count": 51,
     "metadata": {},
     "output_type": "execute_result"
    }
   ],
   "source": [
    "array3"
   ]
  },
  {
   "cell_type": "code",
   "execution_count": 56,
   "metadata": {},
   "outputs": [
    {
     "data": {
      "text/plain": [
       "array([[[38, 27, 59, 14, 57],\n",
       "        [65, 28, 15, 40,  9]],\n",
       "\n",
       "       [[84, 14, 25, 61, 30],\n",
       "        [75, 74, 86,  9, 13]],\n",
       "\n",
       "       [[98, 11, 71, 97, 75],\n",
       "        [ 0, 82, 66, 32, 29]]])"
      ]
     },
     "execution_count": 56,
     "metadata": {},
     "output_type": "execute_result"
    }
   ],
   "source": [
    "operacionarray = np.transpose(array2, (2,0,1)) #adaptamos array2 a array3\n",
    "operacionarray"
   ]
  },
  {
   "cell_type": "code",
   "execution_count": 59,
   "metadata": {},
   "outputs": [
    {
     "data": {
      "text/plain": [
       "array([[[ 19,  13, -40, -44,  20],\n",
       "        [ 65, -36, -80,   7, -72]],\n",
       "\n",
       "       [[ -7, -31,  -8, -22, -55],\n",
       "        [ 43,  41, -10, -12, -79]],\n",
       "\n",
       "       [[ 10, -36, -16,  96, -12],\n",
       "        [-23,  69,  39, -36, -50]]])"
      ]
     },
     "execution_count": 59,
     "metadata": {},
     "output_type": "execute_result"
    }
   ],
   "source": [
    "np.subtract(operacionarray, array3) #ya podemos operar con array2 cambiado"
   ]
  }
 ],
 "metadata": {
  "kernelspec": {
   "display_name": "base",
   "language": "python",
   "name": "python3"
  },
  "language_info": {
   "codemirror_mode": {
    "name": "ipython",
    "version": 3
   },
   "file_extension": ".py",
   "mimetype": "text/x-python",
   "name": "python",
   "nbconvert_exporter": "python",
   "pygments_lexer": "ipython3",
   "version": "3.9.7"
  },
  "orig_nbformat": 4
 },
 "nbformat": 4,
 "nbformat_minor": 2
}
