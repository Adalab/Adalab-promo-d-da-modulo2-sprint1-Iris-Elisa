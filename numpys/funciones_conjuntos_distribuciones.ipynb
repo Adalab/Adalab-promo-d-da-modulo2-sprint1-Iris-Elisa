{
 "cells": [
  {
   "cell_type": "code",
   "execution_count": 1,
   "metadata": {},
   "outputs": [],
   "source": [
    "import numpy as np"
   ]
  },
  {
   "attachments": {},
   "cell_type": "markdown",
   "metadata": {},
   "source": [
    "1. ¿Cómo podemos crear dos arrays de dos dimensiones usando el método random_sample que tengan los mismos valores?"
   ]
  },
  {
   "cell_type": "code",
   "execution_count": 2,
   "metadata": {},
   "outputs": [
    {
     "data": {
      "text/plain": [
       "array([4.17022005e-01, 7.20324493e-01, 1.14374817e-04, 3.02332573e-01])"
      ]
     },
     "execution_count": 2,
     "metadata": {},
     "output_type": "execute_result"
    }
   ],
   "source": [
    "np.random.seed(1)\n",
    "arr1 = np.random.sample(4)\n",
    "arr1"
   ]
  },
  {
   "cell_type": "code",
   "execution_count": 3,
   "metadata": {},
   "outputs": [
    {
     "data": {
      "text/plain": [
       "array([4.17022005e-01, 7.20324493e-01, 1.14374817e-04, 3.02332573e-01])"
      ]
     },
     "execution_count": 3,
     "metadata": {},
     "output_type": "execute_result"
    }
   ],
   "source": [
    "np.random.seed(1)\n",
    "arr2 = np.random.sample(4)\n",
    "arr2"
   ]
  },
  {
   "attachments": {},
   "cell_type": "markdown",
   "metadata": {},
   "source": [
    "2. Cread los siguientes arrays:\n",
    "\n",
    "- Un array de tres dimensiones con distribución uniforme de 2 x 3 x 5, con números entre 0 y 10, que no tengan decimales y extrae sus valores únicos almacenándolos en una variable."
   ]
  },
  {
   "cell_type": "code",
   "execution_count": 4,
   "metadata": {},
   "outputs": [
    {
     "data": {
      "text/plain": [
       "array([[[1.46755891, 0.92338595, 1.86260211, 3.45560727, 3.96767474],\n",
       "        [5.38816734, 4.19194514, 6.852195  , 2.0445225 , 8.78117436],\n",
       "        [0.27387593, 6.7046751 , 4.17304802, 5.58689828, 1.40386939]],\n",
       "\n",
       "       [[1.98101489, 8.00744569, 9.68261576, 3.13424178, 6.92322616],\n",
       "        [8.76389152, 8.94606664, 0.85044211, 0.39054783, 1.6983042 ],\n",
       "        [8.78142503, 0.98346834, 4.21107625, 9.5788953 , 5.33165285]]])"
      ]
     },
     "execution_count": 4,
     "metadata": {},
     "output_type": "execute_result"
    }
   ],
   "source": [
    "uniforme = np.random.uniform(0,10, size = (2,3,5))\n",
    "uniforme"
   ]
  },
  {
   "cell_type": "code",
   "execution_count": 5,
   "metadata": {},
   "outputs": [
    {
     "data": {
      "text/plain": [
       "array([[[ 1.,  1.,  2.,  3.,  4.],\n",
       "        [ 5.,  4.,  7.,  2.,  9.],\n",
       "        [ 0.,  7.,  4.,  6.,  1.]],\n",
       "\n",
       "       [[ 2.,  8., 10.,  3.,  7.],\n",
       "        [ 9.,  9.,  1.,  0.,  2.],\n",
       "        [ 9.,  1.,  4., 10.,  5.]]])"
      ]
     },
     "execution_count": 5,
     "metadata": {},
     "output_type": "execute_result"
    }
   ],
   "source": [
    "enteros = np.round(uniforme)\n",
    "enteros"
   ]
  },
  {
   "cell_type": "code",
   "execution_count": 6,
   "metadata": {},
   "outputs": [
    {
     "data": {
      "text/plain": [
       "30"
      ]
     },
     "execution_count": 6,
     "metadata": {},
     "output_type": "execute_result"
    }
   ],
   "source": [
    "enteros.size"
   ]
  },
  {
   "cell_type": "code",
   "execution_count": 7,
   "metadata": {},
   "outputs": [
    {
     "data": {
      "text/plain": [
       "array([ 0.,  1.,  2.,  3.,  4.,  5.,  6.,  7.,  8.,  9., 10.])"
      ]
     },
     "execution_count": 7,
     "metadata": {},
     "output_type": "execute_result"
    }
   ],
   "source": [
    "unicos = np.unique(enteros)\n",
    "unicos"
   ]
  },
  {
   "attachments": {},
   "cell_type": "markdown",
   "metadata": {},
   "source": [
    "- Un array de tres dimensiones con distribución binomial de 2 x 3 x 5, con probabilidad de 0.3 y número de pruebas igual a 10. Igual que antes, extrae sus valores únicos y guarda los datos en una variable."
   ]
  },
  {
   "cell_type": "code",
   "execution_count": 8,
   "metadata": {},
   "outputs": [
    {
     "data": {
      "text/plain": [
       "array([[[4, 2, 4, 4, 0],\n",
       "        [4, 6, 4, 2, 4],\n",
       "        [1, 3, 5, 2, 2]],\n",
       "\n",
       "       [[1, 0, 4, 2, 2],\n",
       "        [3, 1, 3, 1, 3],\n",
       "        [4, 1, 3, 4, 3]]])"
      ]
     },
     "execution_count": 8,
     "metadata": {},
     "output_type": "execute_result"
    }
   ],
   "source": [
    "binomial = np.random.binomial(10, 0.3, size = (2,3,5))\n",
    "binomial"
   ]
  },
  {
   "cell_type": "code",
   "execution_count": 9,
   "metadata": {},
   "outputs": [
    {
     "data": {
      "text/plain": [
       "array([0, 1, 2, 3, 4, 5, 6])"
      ]
     },
     "execution_count": 9,
     "metadata": {},
     "output_type": "execute_result"
    }
   ],
   "source": [
    "bi_unicos = np.unique(binomial)\n",
    "bi_unicos"
   ]
  },
  {
   "attachments": {},
   "cell_type": "markdown",
   "metadata": {},
   "source": [
    "3. En esta lección hemos aprendido algunos métodos de teórias de conjuntos. Usando los arrays de elementos únicos obtenidos en el ejercicio anterior realizad las siguientes operaciones:\n",
    "\n",
    "⚠️ Explicar cada uno de los outputs que os salgan. Que significa cada una de estas operaciones que hemos ido extrayendo?\n",
    "\n",
    "- Elementos comunes entre los dos arrays"
   ]
  },
  {
   "cell_type": "code",
   "execution_count": 10,
   "metadata": {},
   "outputs": [
    {
     "data": {
      "text/plain": [
       "array([[[ 1.,  1.,  2.,  3.,  4.],\n",
       "        [ 5.,  4.,  7.,  2.,  9.],\n",
       "        [ 0.,  7.,  4.,  6.,  1.]],\n",
       "\n",
       "       [[ 2.,  8., 10.,  3.,  7.],\n",
       "        [ 9.,  9.,  1.,  0.,  2.],\n",
       "        [ 9.,  1.,  4., 10.,  5.]]])"
      ]
     },
     "execution_count": 10,
     "metadata": {},
     "output_type": "execute_result"
    }
   ],
   "source": [
    "enteros"
   ]
  },
  {
   "cell_type": "code",
   "execution_count": 11,
   "metadata": {},
   "outputs": [
    {
     "data": {
      "text/plain": [
       "array([[[4, 2, 4, 4, 0],\n",
       "        [4, 6, 4, 2, 4],\n",
       "        [1, 3, 5, 2, 2]],\n",
       "\n",
       "       [[1, 0, 4, 2, 2],\n",
       "        [3, 1, 3, 1, 3],\n",
       "        [4, 1, 3, 4, 3]]])"
      ]
     },
     "execution_count": 11,
     "metadata": {},
     "output_type": "execute_result"
    }
   ],
   "source": [
    "binomial"
   ]
  },
  {
   "cell_type": "code",
   "execution_count": 12,
   "metadata": {},
   "outputs": [
    {
     "data": {
      "text/plain": [
       "array([0., 1., 2., 3., 4., 5., 6.])"
      ]
     },
     "execution_count": 12,
     "metadata": {},
     "output_type": "execute_result"
    }
   ],
   "source": [
    "intersect = np.intersect1d(enteros, binomial) #nos saca los elementos únicos comunes a ambos arrays\n",
    "intersect"
   ]
  },
  {
   "attachments": {},
   "cell_type": "markdown",
   "metadata": {},
   "source": [
    "- Unión de los dos arrays"
   ]
  },
  {
   "cell_type": "code",
   "execution_count": 13,
   "metadata": {},
   "outputs": [
    {
     "data": {
      "text/plain": [
       "array([ 0.,  1.,  2.,  3.,  4.,  5.,  6.,  7.,  8.,  9., 10.])"
      ]
     },
     "execution_count": 13,
     "metadata": {},
     "output_type": "execute_result"
    }
   ],
   "source": [
    "union = np.union1d(enteros, binomial) #saca los elementos de cada array y los une en orden descendente\n",
    "union"
   ]
  },
  {
   "attachments": {},
   "cell_type": "markdown",
   "metadata": {},
   "source": [
    "- ¿Qué elementos están en el array derivado de la distribución uniforme y no en los únicos de la distribución binomial? Extrae los valores númericos"
   ]
  },
  {
   "cell_type": "code",
   "execution_count": 14,
   "metadata": {},
   "outputs": [
    {
     "data": {
      "text/plain": [
       "array([ 7.,  8.,  9., 10.])"
      ]
     },
     "execution_count": 14,
     "metadata": {},
     "output_type": "execute_result"
    }
   ],
   "source": [
    "np.setdiff1d(enteros, bi_unicos)"
   ]
  },
  {
   "attachments": {},
   "cell_type": "markdown",
   "metadata": {},
   "source": [
    "4. Cread dos arrays usando el método random.randint de Numpy con 80 elementos cada uno con números del 1-100, con los siguientes nombres array1 y array2.\n",
    "\n",
    "- Extraed los valores únicos de cada uno de los arrays y los guardáis en variables en las que se les llame array1 y array2."
   ]
  },
  {
   "cell_type": "code",
   "execution_count": 15,
   "metadata": {},
   "outputs": [
    {
     "data": {
      "text/plain": [
       "array([[[78,  7, 53, 86, 71,  3, 77, 92],\n",
       "        [22, 76,  8, 78, 73, 76, 77, 44],\n",
       "        [21, 31, 37,  8, 46, 69, 58, 83],\n",
       "        [97, 14, 11, 24, 82,  8, 25, 75],\n",
       "        [93, 21, 33, 13, 66, 95, 61, 25]],\n",
       "\n",
       "       [[83, 98,  3, 93, 99, 11, 55, 97],\n",
       "        [83, 87, 71, 67, 72, 49, 55, 16],\n",
       "        [ 6, 18, 43, 21, 49, 23, 14, 98],\n",
       "        [54, 85, 11, 97, 56, 62, 57, 90],\n",
       "        [22, 97, 84, 26, 15, 14, 85, 44]]])"
      ]
     },
     "execution_count": 15,
     "metadata": {},
     "output_type": "execute_result"
    }
   ],
   "source": [
    "array1 = np.random.randint(1,100,(2,5,8))\n",
    "array1"
   ]
  },
  {
   "cell_type": "code",
   "execution_count": 16,
   "metadata": {},
   "outputs": [
    {
     "data": {
      "text/plain": [
       "array([[[ 7, 78, 57, 60, 16, 25, 10, 67],\n",
       "        [72, 54, 70, 37, 22, 41, 78, 92],\n",
       "        [50, 48, 78, 41, 79, 46, 88, 17],\n",
       "        [29, 46, 68, 67, 79, 47,  1, 30],\n",
       "        [64, 76, 36, 54, 94, 34,  3, 85]],\n",
       "\n",
       "       [[84, 49, 55, 33, 29, 56, 83, 32],\n",
       "        [29, 95, 75,  9, 33,  9, 85, 78],\n",
       "        [51, 80, 42, 65, 84, 25, 21, 45],\n",
       "        [16, 31, 92, 15, 20, 27, 87,  8],\n",
       "        [54, 48, 61, 35, 33, 20, 68, 25]]])"
      ]
     },
     "execution_count": 16,
     "metadata": {},
     "output_type": "execute_result"
    }
   ],
   "source": [
    "array2 = np.random.randint(1,100,(2,5,8))\n",
    "array2"
   ]
  },
  {
   "cell_type": "code",
   "execution_count": null,
   "metadata": {},
   "outputs": [],
   "source": []
  },
  {
   "attachments": {},
   "cell_type": "markdown",
   "metadata": {},
   "source": [
    "- Identificad los elementos presentes en el array1 pero no en el array2 y asiganarlo a una variable que se llame array3."
   ]
  },
  {
   "cell_type": "code",
   "execution_count": 17,
   "metadata": {},
   "outputs": [
    {
     "data": {
      "text/plain": [
       "array([ 6, 11, 13, 14, 18, 23, 24, 26, 43, 44, 53, 58, 62, 66, 69, 71, 73,\n",
       "       77, 82, 86, 90, 93, 97, 98, 99])"
      ]
     },
     "execution_count": 17,
     "metadata": {},
     "output_type": "execute_result"
    }
   ],
   "source": [
    "array3 = np.setdiff1d(array1, array2)\n",
    "array3"
   ]
  },
  {
   "attachments": {},
   "cell_type": "markdown",
   "metadata": {},
   "source": [
    "- Identificad los elementos presentes en el array2 pero no en el array1 y asiganarlo a una variable que se llame array4."
   ]
  },
  {
   "cell_type": "code",
   "execution_count": 18,
   "metadata": {},
   "outputs": [
    {
     "data": {
      "text/plain": [
       "array([ 1,  9, 10, 17, 20, 27, 29, 30, 32, 34, 35, 36, 41, 42, 45, 47, 48,\n",
       "       50, 51, 60, 64, 65, 68, 70, 79, 80, 88, 94])"
      ]
     },
     "execution_count": 18,
     "metadata": {},
     "output_type": "execute_result"
    }
   ],
   "source": [
    "array4 = np.setdiff1d(array2, array1)\n",
    "array4"
   ]
  },
  {
   "attachments": {},
   "cell_type": "markdown",
   "metadata": {},
   "source": [
    "- Identificad los elementos presentes en ambos arrays y asiganarlos a una variable que se llame array5."
   ]
  },
  {
   "cell_type": "code",
   "execution_count": 19,
   "metadata": {},
   "outputs": [
    {
     "data": {
      "text/plain": [
       "array([ True,  True, False, False, False,  True, False,  True,  True,\n",
       "        True,  True,  True, False,  True, False, False,  True,  True,\n",
       "        True,  True,  True, False, False,  True, False, False, False,\n",
       "       False, False,  True,  True,  True, False,  True,  True, False,\n",
       "       False,  True,  True,  True,  True, False,  True, False, False,\n",
       "       False,  True, False,  True,  True, False,  True,  True,  True,\n",
       "        True,  True, False, False, False,  True,  True, False, False,\n",
       "       False,  True,  True, False, False,  True, False,  True, False,\n",
       "        True, False,  True, False,  True, False,  True, False])"
      ]
     },
     "execution_count": 19,
     "metadata": {},
     "output_type": "execute_result"
    }
   ],
   "source": [
    "array5 = np.in1d(array1, array2) #a partir de booleano nos está comparando elemento a elemento si está o no está.\n",
    "array5"
   ]
  },
  {
   "cell_type": "code",
   "execution_count": 20,
   "metadata": {},
   "outputs": [
    {
     "data": {
      "text/plain": [
       "80"
      ]
     },
     "execution_count": 20,
     "metadata": {},
     "output_type": "execute_result"
    }
   ],
   "source": [
    "array5.size"
   ]
  },
  {
   "attachments": {},
   "cell_type": "markdown",
   "metadata": {},
   "source": [
    "- ¿Cuál es la relación que existe entre todos estos arrays? 💡 Pista 💡 Tendréis que usar las longitudes de cada uno de los arrays creados."
   ]
  },
  {
   "cell_type": "code",
   "execution_count": 26,
   "metadata": {},
   "outputs": [
    {
     "name": "stdout",
     "output_type": "stream",
     "text": [
      "80\n",
      "80\n",
      "25\n",
      "28\n",
      "80\n"
     ]
    }
   ],
   "source": [
    "print(array1.size)\n",
    "print(array2.size)\n",
    "print(array3.size)\n",
    "print(array4.size)\n",
    "print(array5.size)"
   ]
  }
 ],
 "metadata": {
  "kernelspec": {
   "display_name": "base",
   "language": "python",
   "name": "python3"
  },
  "language_info": {
   "codemirror_mode": {
    "name": "ipython",
    "version": 3
   },
   "file_extension": ".py",
   "mimetype": "text/x-python",
   "name": "python",
   "nbconvert_exporter": "python",
   "pygments_lexer": "ipython3",
   "version": "3.9.7"
  },
  "orig_nbformat": 4
 },
 "nbformat": 4,
 "nbformat_minor": 2
}
